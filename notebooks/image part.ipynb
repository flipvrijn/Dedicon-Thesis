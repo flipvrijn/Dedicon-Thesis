{
 "cells": [
  {
   "cell_type": "code",
   "execution_count": 1,
   "metadata": {
    "collapsed": false
   },
   "outputs": [
    {
     "name": "stdout",
     "output_type": "stream",
     "text": [
      "Couldn't import dot_parser, loading of dot files will not be possible.\n"
     ]
    },
    {
     "name": "stderr",
     "output_type": "stream",
     "text": [
      "Using gpu device 0: Quadro K2200\n"
     ]
    }
   ],
   "source": [
    "import theano\n",
    "import theano.tensor as T\n",
    "import numpy as np"
   ]
  },
  {
   "cell_type": "code",
   "execution_count": 116,
   "metadata": {
    "collapsed": true
   },
   "outputs": [],
   "source": [
    "input_size = 4096\n",
    "embed_size = 1000\n",
    "input_image = T.matrix(name='input_image')"
   ]
  },
  {
   "cell_type": "code",
   "execution_count": 98,
   "metadata": {
    "collapsed": false
   },
   "outputs": [],
   "source": [
    "Wm_init = np.asarray(\n",
    "    np.random.uniform(\n",
    "        low=-4*np.sqrt(6. / (embed_size + input_size)),\n",
    "        high=4*np.sqrt(6. / (embed_size + input_size)),\n",
    "        size=(embed_size, input_size)\n",
    "    ),\n",
    "    dtype=theano.config.floatX\n",
    ")\n",
    "Wm = theano.shared(value=Wm_init, name='Wm', borrow=True)\n",
    "bm = theano.shared(value=np.zeros((embed_size), dtype=theano.config.floatX), name='bm', borrow=True)"
   ]
  },
  {
   "cell_type": "code",
   "execution_count": 118,
   "metadata": {
    "collapsed": true
   },
   "outputs": [],
   "source": [
    "output = T.dot(Wm, input_image).T + bm"
   ]
  },
  {
   "cell_type": "code",
   "execution_count": 119,
   "metadata": {
    "collapsed": false
   },
   "outputs": [],
   "source": [
    "f = theano.function([input_image], output)"
   ]
  },
  {
   "cell_type": "code",
   "execution_count": 120,
   "metadata": {
    "collapsed": false,
    "scrolled": false
   },
   "outputs": [
    {
     "name": "stdout",
     "output_type": "stream",
     "text": [
      "(4096, 20)\n",
      "[[-144.48448181 -139.03842163 -266.33551025 ...,   28.85687256\n",
      "   -75.08908844  188.09794617]\n",
      " [  54.50415039   84.58410645 -295.13812256 ..., -184.22698975\n",
      "  -305.08496094  453.89379883]\n",
      " [ 157.27897644  -43.38220215    7.18831015 ...,  -80.92119598\n",
      "  -276.97680664  218.97335815]\n",
      " ..., \n",
      " [ 115.78327942 -145.71784973 -183.78604126 ..., -164.24176025\n",
      "  -183.65579224  160.27029419]\n",
      " [ -79.44499207 -188.56538391  239.39509583 ...,  -98.07648468\n",
      "  -117.31383514  138.29244995]\n",
      " [-202.30781555  -82.34786987  383.22998047 ..., -162.98779297\n",
      "    53.01392746  172.70123291]]\n"
     ]
    }
   ],
   "source": [
    "cnn_input = np.random.randint(0, 100, (4096, 20)).astype(theano.config.floatX)\n",
    "print cnn_input.shape\n",
    "print f(cnn_input)"
   ]
  },
  {
   "cell_type": "code",
   "execution_count": 64,
   "metadata": {
    "collapsed": false
   },
   "outputs": [],
   "source": []
  },
  {
   "cell_type": "code",
   "execution_count": 62,
   "metadata": {
    "collapsed": false
   },
   "outputs": [
    {
     "data": {
      "text/plain": [
       "[x]"
      ]
     },
     "execution_count": 62,
     "metadata": {},
     "output_type": "execute_result"
    }
   ],
   "source": [
    "import numpy as np\n",
    "net.inputs\n",
    "#net.encode(np.random.randint(0, 100, (20, 4096)).astype(np.float32))"
   ]
  },
  {
   "cell_type": "code",
   "execution_count": null,
   "metadata": {
    "collapsed": true
   },
   "outputs": [],
   "source": []
  }
 ],
 "metadata": {
  "kernelspec": {
   "display_name": "Python 2",
   "language": "python",
   "name": "python2"
  },
  "language_info": {
   "codemirror_mode": {
    "name": "ipython",
    "version": 2
   },
   "file_extension": ".py",
   "mimetype": "text/x-python",
   "name": "python",
   "nbconvert_exporter": "python",
   "pygments_lexer": "ipython2",
   "version": "2.7.10"
  }
 },
 "nbformat": 4,
 "nbformat_minor": 0
}
