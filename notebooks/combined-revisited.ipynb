{
 "cells": [
  {
   "cell_type": "code",
   "execution_count": 31,
   "metadata": {
    "collapsed": false
   },
   "outputs": [
    {
     "name": "stderr",
     "output_type": "stream",
     "text": [
      "INFO:theanets.layers.feedforward:layer Input \"in\": 4096 inputs\n"
     ]
    },
    {
     "name": "stdout",
     "output_type": "stream",
     "text": [
      "I 2015-08-12 15:42:50 theanets.layers.feedforward:42 layer Input \"in\": 4096 inputs\n"
     ]
    },
    {
     "name": "stderr",
     "output_type": "stream",
     "text": [
      "INFO:theanets.layers.base:layer Feedforward \"img\": (in:out)4096 -> 4096, linear, 16781312 parameters\n"
     ]
    },
    {
     "name": "stdout",
     "output_type": "stream",
     "text": [
      "I 2015-08-12 15:42:50 theanets.layers.base:296 layer Feedforward \"img\": (in:out)4096 -> 4096, linear, 16781312 parameters\n"
     ]
    },
    {
     "name": "stderr",
     "output_type": "stream",
     "text": [
      "INFO:theanets.graph:network has 16781312 total parameters\n"
     ]
    },
    {
     "name": "stdout",
     "output_type": "stream",
     "text": [
      "I 2015-08-12 15:42:50 theanets.graph:111 network has 16781312 total parameters\n"
     ]
    }
   ],
   "source": [
    "import theanets\n",
    "import climate\n",
    "import numpy as np\n",
    "from IPython import embed\n",
    "\n",
    "EMBEDDING_SIZE = 1000\n",
    "climate.enable_default_logging()\n",
    "\n",
    "logging = climate.get_logger(__name__)\n",
    "class Step(theanets.Loss):\n",
    "    def __call__(self, outputs):\n",
    "        return (self.diff(outputs) > 0).mean()\n",
    "\n",
    "net = theanets.Autoencoder((\n",
    "    4096,\n",
    "    dict(size=4096, activation='linear', name='img'),\n",
    "   # dict(size=EMBEDDING_SIZE, activation='relu', form='bidirectional', worker='rnn', name='sent')\n",
    "), loss='step')"
   ]
  },
  {
   "cell_type": "code",
   "execution_count": 33,
   "metadata": {
    "collapsed": false
   },
   "outputs": [
    {
     "name": "stderr",
     "output_type": "stream",
     "text": [
      "INFO:downhill.dataset:valid: 1 of 1 mini-batches of (1, 4096)\n"
     ]
    },
    {
     "name": "stdout",
     "output_type": "stream",
     "text": [
      "I 2015-08-12 15:45:52 downhill.dataset:144 valid: 1 of 1 mini-batches of (1, 4096)\n"
     ]
    },
    {
     "name": "stderr",
     "output_type": "stream",
     "text": [
      "INFO:downhill.dataset:train: 1 of 1 mini-batches of (1, 4096)\n"
     ]
    },
    {
     "name": "stdout",
     "output_type": "stream",
     "text": [
      "I 2015-08-12 15:45:52 downhill.dataset:144 train: 1 of 1 mini-batches of (1, 4096)\n"
     ]
    },
    {
     "name": "stderr",
     "output_type": "stream",
     "text": [
      "INFO:downhill.base:-- patience = 5\n"
     ]
    },
    {
     "name": "stdout",
     "output_type": "stream",
     "text": [
      "I 2015-08-12 15:45:52 downhill.base:378 -- patience = 5\n"
     ]
    },
    {
     "name": "stderr",
     "output_type": "stream",
     "text": [
      "INFO:downhill.base:-- validate_every = 10\n"
     ]
    },
    {
     "name": "stdout",
     "output_type": "stream",
     "text": [
      "I 2015-08-12 15:45:52 downhill.base:379 -- validate_every = 10\n"
     ]
    },
    {
     "name": "stderr",
     "output_type": "stream",
     "text": [
      "INFO:downhill.base:-- min_improvement = 0\n"
     ]
    },
    {
     "name": "stdout",
     "output_type": "stream",
     "text": [
      "I 2015-08-12 15:45:52 downhill.base:380 -- min_improvement = 0\n"
     ]
    },
    {
     "name": "stderr",
     "output_type": "stream",
     "text": [
      "INFO:downhill.base:-- max_gradient_norm = 0\n"
     ]
    },
    {
     "name": "stdout",
     "output_type": "stream",
     "text": [
      "I 2015-08-12 15:45:52 downhill.base:381 -- max_gradient_norm = 0\n"
     ]
    },
    {
     "name": "stderr",
     "output_type": "stream",
     "text": [
      "INFO:downhill.base:-- max_gradient_elem = 0\n"
     ]
    },
    {
     "name": "stdout",
     "output_type": "stream",
     "text": [
      "I 2015-08-12 15:45:52 downhill.base:382 -- max_gradient_elem = 0\n"
     ]
    },
    {
     "name": "stderr",
     "output_type": "stream",
     "text": [
      "INFO:downhill.base:-- learning_rate = 0.0001\n"
     ]
    },
    {
     "name": "stdout",
     "output_type": "stream",
     "text": [
      "I 2015-08-12 15:45:52 downhill.base:383 -- learning_rate = 0.0001\n"
     ]
    },
    {
     "name": "stderr",
     "output_type": "stream",
     "text": [
      "INFO:downhill.base:-- momentum = 0\n"
     ]
    },
    {
     "name": "stdout",
     "output_type": "stream",
     "text": [
      "I 2015-08-12 15:45:52 downhill.base:384 -- momentum = 0\n"
     ]
    },
    {
     "name": "stderr",
     "output_type": "stream",
     "text": [
      "INFO:downhill.base:-- nesterov = False\n"
     ]
    },
    {
     "name": "stdout",
     "output_type": "stream",
     "text": [
      "I 2015-08-12 15:45:52 downhill.base:385 -- nesterov = False\n"
     ]
    },
    {
     "name": "stderr",
     "output_type": "stream",
     "text": [
      "INFO:downhill.adaptive:-- rms_halflife = 14\n"
     ]
    },
    {
     "name": "stdout",
     "output_type": "stream",
     "text": [
      "I 2015-08-12 15:45:52 downhill.adaptive:220 -- rms_halflife = 14\n"
     ]
    },
    {
     "name": "stderr",
     "output_type": "stream",
     "text": [
      "INFO:downhill.adaptive:-- rms_regularizer = 1e-08\n"
     ]
    },
    {
     "name": "stdout",
     "output_type": "stream",
     "text": [
      "I 2015-08-12 15:45:52 downhill.adaptive:221 -- rms_regularizer = 1e-08\n"
     ]
    },
    {
     "name": "stderr",
     "output_type": "stream",
     "text": [
      "INFO:downhill.base:compiling evaluation function\n"
     ]
    },
    {
     "name": "stdout",
     "output_type": "stream",
     "text": [
      "I 2015-08-12 15:45:52 downhill.base:112 compiling evaluation function\n"
     ]
    },
    {
     "name": "stderr",
     "output_type": "stream",
     "text": [
      "INFO:downhill.base:compiling RMSProp function\n"
     ]
    },
    {
     "name": "stdout",
     "output_type": "stream",
     "text": [
      "I 2015-08-12 15:45:52 downhill.base:118 compiling RMSProp function\n"
     ]
    },
    {
     "name": "stderr",
     "output_type": "stream",
     "text": [
      "INFO:downhill.base:validation 0 loss=0.505859 err=0.505859 *\n"
     ]
    },
    {
     "name": "stdout",
     "output_type": "stream",
     "text": [
      "I 2015-08-12 15:45:52 downhill.base:226 validation 0 loss=0.505859 err=0.505859 *\n"
     ]
    },
    {
     "name": "stderr",
     "output_type": "stream",
     "text": [
      "INFO:downhill.base:RMSProp 1 loss=0.505859 err=0.505859\n"
     ]
    },
    {
     "name": "stdout",
     "output_type": "stream",
     "text": [
      "I 2015-08-12 15:45:52 downhill.base:226 RMSProp 1 loss=0.505859 err=0.505859\n"
     ]
    },
    {
     "name": "stderr",
     "output_type": "stream",
     "text": [
      "INFO:downhill.base:RMSProp 2 loss=0.505859 err=0.505859\n"
     ]
    },
    {
     "name": "stdout",
     "output_type": "stream",
     "text": [
      "I 2015-08-12 15:45:52 downhill.base:226 RMSProp 2 loss=0.505859 err=0.505859\n"
     ]
    },
    {
     "name": "stderr",
     "output_type": "stream",
     "text": [
      "INFO:downhill.base:RMSProp 3 loss=0.505859 err=0.505859\n"
     ]
    },
    {
     "name": "stdout",
     "output_type": "stream",
     "text": [
      "I 2015-08-12 15:45:52 downhill.base:226 RMSProp 3 loss=0.505859 err=0.505859\n"
     ]
    },
    {
     "name": "stderr",
     "output_type": "stream",
     "text": [
      "INFO:downhill.base:RMSProp 4 loss=0.505859 err=0.505859\n"
     ]
    },
    {
     "name": "stdout",
     "output_type": "stream",
     "text": [
      "I 2015-08-12 15:45:52 downhill.base:226 RMSProp 4 loss=0.505859 err=0.505859\n"
     ]
    },
    {
     "name": "stderr",
     "output_type": "stream",
     "text": [
      "INFO:downhill.base:RMSProp 5 loss=0.505859 err=0.505859\n"
     ]
    },
    {
     "name": "stdout",
     "output_type": "stream",
     "text": [
      "I 2015-08-12 15:45:52 downhill.base:226 RMSProp 5 loss=0.505859 err=0.505859\n"
     ]
    },
    {
     "name": "stderr",
     "output_type": "stream",
     "text": [
      "INFO:downhill.base:RMSProp 6 loss=0.505859 err=0.505859\n"
     ]
    },
    {
     "name": "stdout",
     "output_type": "stream",
     "text": [
      "I 2015-08-12 15:45:52 downhill.base:226 RMSProp 6 loss=0.505859 err=0.505859\n"
     ]
    },
    {
     "name": "stderr",
     "output_type": "stream",
     "text": [
      "INFO:downhill.base:RMSProp 7 loss=0.505859 err=0.505859\n"
     ]
    },
    {
     "name": "stdout",
     "output_type": "stream",
     "text": [
      "I 2015-08-12 15:45:52 downhill.base:226 RMSProp 7 loss=0.505859 err=0.505859\n"
     ]
    },
    {
     "name": "stderr",
     "output_type": "stream",
     "text": [
      "INFO:downhill.base:RMSProp 8 loss=0.505859 err=0.505859\n"
     ]
    },
    {
     "name": "stdout",
     "output_type": "stream",
     "text": [
      "I 2015-08-12 15:45:52 downhill.base:226 RMSProp 8 loss=0.505859 err=0.505859\n"
     ]
    },
    {
     "name": "stderr",
     "output_type": "stream",
     "text": [
      "INFO:downhill.base:RMSProp 9 loss=0.505859 err=0.505859\n"
     ]
    },
    {
     "name": "stdout",
     "output_type": "stream",
     "text": [
      "I 2015-08-12 15:45:52 downhill.base:226 RMSProp 9 loss=0.505859 err=0.505859\n"
     ]
    },
    {
     "name": "stderr",
     "output_type": "stream",
     "text": [
      "INFO:downhill.base:RMSProp 10 loss=0.505859 err=0.505859\n"
     ]
    },
    {
     "name": "stdout",
     "output_type": "stream",
     "text": [
      "I 2015-08-12 15:45:52 downhill.base:226 RMSProp 10 loss=0.505859 err=0.505859\n"
     ]
    },
    {
     "name": "stderr",
     "output_type": "stream",
     "text": [
      "INFO:downhill.base:validation 1 loss=0.505859 err=0.505859\n"
     ]
    },
    {
     "name": "stdout",
     "output_type": "stream",
     "text": [
      "I 2015-08-12 15:45:52 downhill.base:226 validation 1 loss=0.505859 err=0.505859\n"
     ]
    },
    {
     "name": "stderr",
     "output_type": "stream",
     "text": [
      "INFO:downhill.base:RMSProp 11 loss=0.505859 err=0.505859\n"
     ]
    },
    {
     "name": "stdout",
     "output_type": "stream",
     "text": [
      "I 2015-08-12 15:45:52 downhill.base:226 RMSProp 11 loss=0.505859 err=0.505859\n"
     ]
    },
    {
     "name": "stderr",
     "output_type": "stream",
     "text": [
      "INFO:downhill.base:RMSProp 12 loss=0.505859 err=0.505859\n"
     ]
    },
    {
     "name": "stdout",
     "output_type": "stream",
     "text": [
      "I 2015-08-12 15:45:52 downhill.base:226 RMSProp 12 loss=0.505859 err=0.505859\n"
     ]
    },
    {
     "name": "stderr",
     "output_type": "stream",
     "text": [
      "INFO:downhill.base:RMSProp 13 loss=0.505859 err=0.505859\n"
     ]
    },
    {
     "name": "stdout",
     "output_type": "stream",
     "text": [
      "I 2015-08-12 15:45:52 downhill.base:226 RMSProp 13 loss=0.505859 err=0.505859\n"
     ]
    },
    {
     "name": "stderr",
     "output_type": "stream",
     "text": [
      "INFO:downhill.base:RMSProp 14 loss=0.505859 err=0.505859\n"
     ]
    },
    {
     "name": "stdout",
     "output_type": "stream",
     "text": [
      "I 2015-08-12 15:45:52 downhill.base:226 RMSProp 14 loss=0.505859 err=0.505859\n"
     ]
    },
    {
     "name": "stderr",
     "output_type": "stream",
     "text": [
      "INFO:downhill.base:RMSProp 15 loss=0.505859 err=0.505859\n"
     ]
    },
    {
     "name": "stdout",
     "output_type": "stream",
     "text": [
      "I 2015-08-12 15:45:52 downhill.base:226 RMSProp 15 loss=0.505859 err=0.505859\n"
     ]
    },
    {
     "name": "stderr",
     "output_type": "stream",
     "text": [
      "INFO:downhill.base:RMSProp 16 loss=0.505859 err=0.505859\n"
     ]
    },
    {
     "name": "stdout",
     "output_type": "stream",
     "text": [
      "I 2015-08-12 15:45:52 downhill.base:226 RMSProp 16 loss=0.505859 err=0.505859\n"
     ]
    },
    {
     "name": "stderr",
     "output_type": "stream",
     "text": [
      "INFO:downhill.base:RMSProp 17 loss=0.505859 err=0.505859\n"
     ]
    },
    {
     "name": "stdout",
     "output_type": "stream",
     "text": [
      "I 2015-08-12 15:45:52 downhill.base:226 RMSProp 17 loss=0.505859 err=0.505859\n"
     ]
    },
    {
     "name": "stderr",
     "output_type": "stream",
     "text": [
      "INFO:downhill.base:RMSProp 18 loss=0.505859 err=0.505859\n"
     ]
    },
    {
     "name": "stdout",
     "output_type": "stream",
     "text": [
      "I 2015-08-12 15:45:52 downhill.base:226 RMSProp 18 loss=0.505859 err=0.505859\n"
     ]
    },
    {
     "name": "stderr",
     "output_type": "stream",
     "text": [
      "INFO:downhill.base:RMSProp 19 loss=0.505859 err=0.505859\n"
     ]
    },
    {
     "name": "stdout",
     "output_type": "stream",
     "text": [
      "I 2015-08-12 15:45:52 downhill.base:226 RMSProp 19 loss=0.505859 err=0.505859\n"
     ]
    },
    {
     "name": "stderr",
     "output_type": "stream",
     "text": [
      "INFO:downhill.base:RMSProp 20 loss=0.505859 err=0.505859\n"
     ]
    },
    {
     "name": "stdout",
     "output_type": "stream",
     "text": [
      "I 2015-08-12 15:45:52 downhill.base:226 RMSProp 20 loss=0.505859 err=0.505859\n"
     ]
    },
    {
     "name": "stderr",
     "output_type": "stream",
     "text": [
      "INFO:downhill.base:validation 2 loss=0.505859 err=0.505859\n"
     ]
    },
    {
     "name": "stdout",
     "output_type": "stream",
     "text": [
      "I 2015-08-12 15:45:52 downhill.base:226 validation 2 loss=0.505859 err=0.505859\n"
     ]
    },
    {
     "name": "stderr",
     "output_type": "stream",
     "text": [
      "INFO:downhill.base:RMSProp 21 loss=0.505859 err=0.505859\n"
     ]
    },
    {
     "name": "stdout",
     "output_type": "stream",
     "text": [
      "I 2015-08-12 15:45:52 downhill.base:226 RMSProp 21 loss=0.505859 err=0.505859\n"
     ]
    },
    {
     "name": "stderr",
     "output_type": "stream",
     "text": [
      "INFO:downhill.base:RMSProp 22 loss=0.505859 err=0.505859\n"
     ]
    },
    {
     "name": "stdout",
     "output_type": "stream",
     "text": [
      "I 2015-08-12 15:45:52 downhill.base:226 RMSProp 22 loss=0.505859 err=0.505859\n"
     ]
    },
    {
     "name": "stderr",
     "output_type": "stream",
     "text": [
      "INFO:downhill.base:RMSProp 23 loss=0.505859 err=0.505859\n"
     ]
    },
    {
     "name": "stdout",
     "output_type": "stream",
     "text": [
      "I 2015-08-12 15:45:52 downhill.base:226 RMSProp 23 loss=0.505859 err=0.505859\n"
     ]
    },
    {
     "name": "stderr",
     "output_type": "stream",
     "text": [
      "INFO:downhill.base:RMSProp 24 loss=0.505859 err=0.505859\n"
     ]
    },
    {
     "name": "stdout",
     "output_type": "stream",
     "text": [
      "I 2015-08-12 15:45:52 downhill.base:226 RMSProp 24 loss=0.505859 err=0.505859\n"
     ]
    },
    {
     "name": "stderr",
     "output_type": "stream",
     "text": [
      "INFO:downhill.base:RMSProp 25 loss=0.505859 err=0.505859\n"
     ]
    },
    {
     "name": "stdout",
     "output_type": "stream",
     "text": [
      "I 2015-08-12 15:45:52 downhill.base:226 RMSProp 25 loss=0.505859 err=0.505859\n"
     ]
    },
    {
     "name": "stderr",
     "output_type": "stream",
     "text": [
      "INFO:downhill.base:RMSProp 26 loss=0.505859 err=0.505859\n"
     ]
    },
    {
     "name": "stdout",
     "output_type": "stream",
     "text": [
      "I 2015-08-12 15:45:52 downhill.base:226 RMSProp 26 loss=0.505859 err=0.505859\n"
     ]
    },
    {
     "name": "stderr",
     "output_type": "stream",
     "text": [
      "INFO:downhill.base:RMSProp 27 loss=0.505859 err=0.505859\n"
     ]
    },
    {
     "name": "stdout",
     "output_type": "stream",
     "text": [
      "I 2015-08-12 15:45:52 downhill.base:226 RMSProp 27 loss=0.505859 err=0.505859\n"
     ]
    },
    {
     "name": "stderr",
     "output_type": "stream",
     "text": [
      "INFO:downhill.base:RMSProp 28 loss=0.505859 err=0.505859\n"
     ]
    },
    {
     "name": "stdout",
     "output_type": "stream",
     "text": [
      "I 2015-08-12 15:45:52 downhill.base:226 RMSProp 28 loss=0.505859 err=0.505859\n"
     ]
    },
    {
     "name": "stderr",
     "output_type": "stream",
     "text": [
      "INFO:downhill.base:RMSProp 29 loss=0.505859 err=0.505859\n"
     ]
    },
    {
     "name": "stdout",
     "output_type": "stream",
     "text": [
      "I 2015-08-12 15:45:52 downhill.base:226 RMSProp 29 loss=0.505859 err=0.505859\n"
     ]
    },
    {
     "name": "stderr",
     "output_type": "stream",
     "text": [
      "INFO:downhill.base:RMSProp 30 loss=0.505859 err=0.505859\n"
     ]
    },
    {
     "name": "stdout",
     "output_type": "stream",
     "text": [
      "I 2015-08-12 15:45:52 downhill.base:226 RMSProp 30 loss=0.505859 err=0.505859\n"
     ]
    },
    {
     "name": "stderr",
     "output_type": "stream",
     "text": [
      "INFO:downhill.base:validation 3 loss=0.505859 err=0.505859\n"
     ]
    },
    {
     "name": "stdout",
     "output_type": "stream",
     "text": [
      "I 2015-08-12 15:45:52 downhill.base:226 validation 3 loss=0.505859 err=0.505859\n"
     ]
    },
    {
     "name": "stderr",
     "output_type": "stream",
     "text": [
      "INFO:downhill.base:RMSProp 31 loss=0.505859 err=0.505859\n"
     ]
    },
    {
     "name": "stdout",
     "output_type": "stream",
     "text": [
      "I 2015-08-12 15:45:52 downhill.base:226 RMSProp 31 loss=0.505859 err=0.505859\n"
     ]
    },
    {
     "name": "stderr",
     "output_type": "stream",
     "text": [
      "INFO:downhill.base:RMSProp 32 loss=0.505859 err=0.505859\n"
     ]
    },
    {
     "name": "stdout",
     "output_type": "stream",
     "text": [
      "I 2015-08-12 15:45:52 downhill.base:226 RMSProp 32 loss=0.505859 err=0.505859\n"
     ]
    },
    {
     "name": "stderr",
     "output_type": "stream",
     "text": [
      "INFO:downhill.base:RMSProp 33 loss=0.505859 err=0.505859\n"
     ]
    },
    {
     "name": "stdout",
     "output_type": "stream",
     "text": [
      "I 2015-08-12 15:45:52 downhill.base:226 RMSProp 33 loss=0.505859 err=0.505859\n"
     ]
    },
    {
     "name": "stderr",
     "output_type": "stream",
     "text": [
      "INFO:downhill.base:RMSProp 34 loss=0.505859 err=0.505859\n"
     ]
    },
    {
     "name": "stdout",
     "output_type": "stream",
     "text": [
      "I 2015-08-12 15:45:52 downhill.base:226 RMSProp 34 loss=0.505859 err=0.505859\n"
     ]
    },
    {
     "name": "stderr",
     "output_type": "stream",
     "text": [
      "INFO:downhill.base:RMSProp 35 loss=0.505859 err=0.505859\n"
     ]
    },
    {
     "name": "stdout",
     "output_type": "stream",
     "text": [
      "I 2015-08-12 15:45:52 downhill.base:226 RMSProp 35 loss=0.505859 err=0.505859\n"
     ]
    },
    {
     "name": "stderr",
     "output_type": "stream",
     "text": [
      "INFO:downhill.base:RMSProp 36 loss=0.505859 err=0.505859\n"
     ]
    },
    {
     "name": "stdout",
     "output_type": "stream",
     "text": [
      "I 2015-08-12 15:45:52 downhill.base:226 RMSProp 36 loss=0.505859 err=0.505859\n"
     ]
    },
    {
     "name": "stderr",
     "output_type": "stream",
     "text": [
      "INFO:downhill.base:RMSProp 37 loss=0.505859 err=0.505859\n"
     ]
    },
    {
     "name": "stdout",
     "output_type": "stream",
     "text": [
      "I 2015-08-12 15:45:52 downhill.base:226 RMSProp 37 loss=0.505859 err=0.505859\n"
     ]
    },
    {
     "name": "stderr",
     "output_type": "stream",
     "text": [
      "INFO:downhill.base:RMSProp 38 loss=0.505859 err=0.505859\n"
     ]
    },
    {
     "name": "stdout",
     "output_type": "stream",
     "text": [
      "I 2015-08-12 15:45:52 downhill.base:226 RMSProp 38 loss=0.505859 err=0.505859\n"
     ]
    },
    {
     "name": "stderr",
     "output_type": "stream",
     "text": [
      "INFO:downhill.base:RMSProp 39 loss=0.505859 err=0.505859\n"
     ]
    },
    {
     "name": "stdout",
     "output_type": "stream",
     "text": [
      "I 2015-08-12 15:45:52 downhill.base:226 RMSProp 39 loss=0.505859 err=0.505859\n"
     ]
    },
    {
     "name": "stderr",
     "output_type": "stream",
     "text": [
      "INFO:downhill.base:RMSProp 40 loss=0.505859 err=0.505859\n"
     ]
    },
    {
     "name": "stdout",
     "output_type": "stream",
     "text": [
      "I 2015-08-12 15:45:52 downhill.base:226 RMSProp 40 loss=0.505859 err=0.505859\n"
     ]
    },
    {
     "name": "stderr",
     "output_type": "stream",
     "text": [
      "INFO:downhill.base:validation 4 loss=0.505859 err=0.505859\n"
     ]
    },
    {
     "name": "stdout",
     "output_type": "stream",
     "text": [
      "I 2015-08-12 15:45:52 downhill.base:226 validation 4 loss=0.505859 err=0.505859\n"
     ]
    },
    {
     "name": "stderr",
     "output_type": "stream",
     "text": [
      "INFO:downhill.base:RMSProp 41 loss=0.505859 err=0.505859\n"
     ]
    },
    {
     "name": "stdout",
     "output_type": "stream",
     "text": [
      "I 2015-08-12 15:45:52 downhill.base:226 RMSProp 41 loss=0.505859 err=0.505859\n"
     ]
    },
    {
     "name": "stderr",
     "output_type": "stream",
     "text": [
      "INFO:downhill.base:RMSProp 42 loss=0.505859 err=0.505859\n"
     ]
    },
    {
     "name": "stdout",
     "output_type": "stream",
     "text": [
      "I 2015-08-12 15:45:53 downhill.base:226 RMSProp 42 loss=0.505859 err=0.505859\n"
     ]
    },
    {
     "name": "stderr",
     "output_type": "stream",
     "text": [
      "INFO:downhill.base:RMSProp 43 loss=0.505859 err=0.505859\n"
     ]
    },
    {
     "name": "stdout",
     "output_type": "stream",
     "text": [
      "I 2015-08-12 15:45:53 downhill.base:226 RMSProp 43 loss=0.505859 err=0.505859\n"
     ]
    },
    {
     "name": "stderr",
     "output_type": "stream",
     "text": [
      "INFO:downhill.base:RMSProp 44 loss=0.505859 err=0.505859\n"
     ]
    },
    {
     "name": "stdout",
     "output_type": "stream",
     "text": [
      "I 2015-08-12 15:45:53 downhill.base:226 RMSProp 44 loss=0.505859 err=0.505859\n"
     ]
    },
    {
     "name": "stderr",
     "output_type": "stream",
     "text": [
      "INFO:downhill.base:RMSProp 45 loss=0.505859 err=0.505859\n"
     ]
    },
    {
     "name": "stdout",
     "output_type": "stream",
     "text": [
      "I 2015-08-12 15:45:53 downhill.base:226 RMSProp 45 loss=0.505859 err=0.505859\n"
     ]
    },
    {
     "name": "stderr",
     "output_type": "stream",
     "text": [
      "INFO:downhill.base:RMSProp 46 loss=0.505859 err=0.505859\n"
     ]
    },
    {
     "name": "stdout",
     "output_type": "stream",
     "text": [
      "I 2015-08-12 15:45:53 downhill.base:226 RMSProp 46 loss=0.505859 err=0.505859\n"
     ]
    },
    {
     "name": "stderr",
     "output_type": "stream",
     "text": [
      "INFO:downhill.base:RMSProp 47 loss=0.505859 err=0.505859\n"
     ]
    },
    {
     "name": "stdout",
     "output_type": "stream",
     "text": [
      "I 2015-08-12 15:45:53 downhill.base:226 RMSProp 47 loss=0.505859 err=0.505859\n"
     ]
    },
    {
     "name": "stderr",
     "output_type": "stream",
     "text": [
      "INFO:downhill.base:RMSProp 48 loss=0.505859 err=0.505859\n"
     ]
    },
    {
     "name": "stdout",
     "output_type": "stream",
     "text": [
      "I 2015-08-12 15:45:53 downhill.base:226 RMSProp 48 loss=0.505859 err=0.505859\n"
     ]
    },
    {
     "name": "stderr",
     "output_type": "stream",
     "text": [
      "INFO:downhill.base:RMSProp 49 loss=0.505859 err=0.505859\n"
     ]
    },
    {
     "name": "stdout",
     "output_type": "stream",
     "text": [
      "I 2015-08-12 15:45:53 downhill.base:226 RMSProp 49 loss=0.505859 err=0.505859\n"
     ]
    },
    {
     "name": "stderr",
     "output_type": "stream",
     "text": [
      "INFO:downhill.base:RMSProp 50 loss=0.505859 err=0.505859\n"
     ]
    },
    {
     "name": "stdout",
     "output_type": "stream",
     "text": [
      "I 2015-08-12 15:45:53 downhill.base:226 RMSProp 50 loss=0.505859 err=0.505859\n"
     ]
    },
    {
     "name": "stderr",
     "output_type": "stream",
     "text": [
      "INFO:downhill.base:validation 5 loss=0.505859 err=0.505859\n"
     ]
    },
    {
     "name": "stdout",
     "output_type": "stream",
     "text": [
      "I 2015-08-12 15:45:53 downhill.base:226 validation 5 loss=0.505859 err=0.505859\n"
     ]
    },
    {
     "name": "stderr",
     "output_type": "stream",
     "text": [
      "INFO:downhill.base:RMSProp 51 loss=0.505859 err=0.505859\n"
     ]
    },
    {
     "name": "stdout",
     "output_type": "stream",
     "text": [
      "I 2015-08-12 15:45:53 downhill.base:226 RMSProp 51 loss=0.505859 err=0.505859\n"
     ]
    },
    {
     "name": "stderr",
     "output_type": "stream",
     "text": [
      "INFO:downhill.base:RMSProp 52 loss=0.505859 err=0.505859\n"
     ]
    },
    {
     "name": "stdout",
     "output_type": "stream",
     "text": [
      "I 2015-08-12 15:45:53 downhill.base:226 RMSProp 52 loss=0.505859 err=0.505859\n"
     ]
    },
    {
     "name": "stderr",
     "output_type": "stream",
     "text": [
      "INFO:downhill.base:RMSProp 53 loss=0.505859 err=0.505859\n"
     ]
    },
    {
     "name": "stdout",
     "output_type": "stream",
     "text": [
      "I 2015-08-12 15:45:53 downhill.base:226 RMSProp 53 loss=0.505859 err=0.505859\n"
     ]
    },
    {
     "name": "stderr",
     "output_type": "stream",
     "text": [
      "INFO:downhill.base:RMSProp 54 loss=0.505859 err=0.505859\n"
     ]
    },
    {
     "name": "stdout",
     "output_type": "stream",
     "text": [
      "I 2015-08-12 15:45:53 downhill.base:226 RMSProp 54 loss=0.505859 err=0.505859\n"
     ]
    },
    {
     "name": "stderr",
     "output_type": "stream",
     "text": [
      "INFO:downhill.base:RMSProp 55 loss=0.505859 err=0.505859\n"
     ]
    },
    {
     "name": "stdout",
     "output_type": "stream",
     "text": [
      "I 2015-08-12 15:45:53 downhill.base:226 RMSProp 55 loss=0.505859 err=0.505859\n"
     ]
    },
    {
     "name": "stderr",
     "output_type": "stream",
     "text": [
      "INFO:downhill.base:RMSProp 56 loss=0.505859 err=0.505859\n"
     ]
    },
    {
     "name": "stdout",
     "output_type": "stream",
     "text": [
      "I 2015-08-12 15:45:53 downhill.base:226 RMSProp 56 loss=0.505859 err=0.505859\n"
     ]
    },
    {
     "name": "stderr",
     "output_type": "stream",
     "text": [
      "INFO:downhill.base:RMSProp 57 loss=0.505859 err=0.505859\n"
     ]
    },
    {
     "name": "stdout",
     "output_type": "stream",
     "text": [
      "I 2015-08-12 15:45:53 downhill.base:226 RMSProp 57 loss=0.505859 err=0.505859\n"
     ]
    },
    {
     "name": "stderr",
     "output_type": "stream",
     "text": [
      "INFO:downhill.base:RMSProp 58 loss=0.505859 err=0.505859\n"
     ]
    },
    {
     "name": "stdout",
     "output_type": "stream",
     "text": [
      "I 2015-08-12 15:45:53 downhill.base:226 RMSProp 58 loss=0.505859 err=0.505859\n"
     ]
    },
    {
     "name": "stderr",
     "output_type": "stream",
     "text": [
      "INFO:downhill.base:RMSProp 59 loss=0.505859 err=0.505859\n"
     ]
    },
    {
     "name": "stdout",
     "output_type": "stream",
     "text": [
      "I 2015-08-12 15:45:53 downhill.base:226 RMSProp 59 loss=0.505859 err=0.505859\n"
     ]
    },
    {
     "name": "stderr",
     "output_type": "stream",
     "text": [
      "INFO:downhill.base:RMSProp 60 loss=0.505859 err=0.505859\n"
     ]
    },
    {
     "name": "stdout",
     "output_type": "stream",
     "text": [
      "I 2015-08-12 15:45:53 downhill.base:226 RMSProp 60 loss=0.505859 err=0.505859\n"
     ]
    },
    {
     "name": "stderr",
     "output_type": "stream",
     "text": [
      "INFO:downhill.base:validation 6 loss=0.505859 err=0.505859\n"
     ]
    },
    {
     "name": "stdout",
     "output_type": "stream",
     "text": [
      "I 2015-08-12 15:45:53 downhill.base:226 validation 6 loss=0.505859 err=0.505859\n"
     ]
    },
    {
     "name": "stderr",
     "output_type": "stream",
     "text": [
      "INFO:downhill.base:patience elapsed!\n"
     ]
    },
    {
     "name": "stdout",
     "output_type": "stream",
     "text": [
      "I 2015-08-12 15:45:53 downhill.base:402 patience elapsed!\n"
     ]
    },
    {
     "data": {
      "text/plain": [
       "(OrderedDict([('loss', 0.505859375), ('err', 0.505859375)]),\n",
       " OrderedDict([('loss', 0.505859375), ('err', 0.505859375)]))"
      ]
     },
     "execution_count": 33,
     "metadata": {},
     "output_type": "execute_result"
    }
   ],
   "source": [
    "net.train(np.zeros((1, 4096), dtype=theanets.util.FLOAT))"
   ]
  },
  {
   "cell_type": "code",
   "execution_count": null,
   "metadata": {
    "collapsed": true
   },
   "outputs": [],
   "source": []
  }
 ],
 "metadata": {
  "kernelspec": {
   "display_name": "Python 2",
   "language": "python",
   "name": "python2"
  },
  "language_info": {
   "codemirror_mode": {
    "name": "ipython",
    "version": 2
   },
   "file_extension": ".py",
   "mimetype": "text/x-python",
   "name": "python",
   "nbconvert_exporter": "python",
   "pygments_lexer": "ipython2",
   "version": "2.7.10"
  }
 },
 "nbformat": 4,
 "nbformat_minor": 0
}
