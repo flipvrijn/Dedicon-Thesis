{
 "cells": [
  {
   "cell_type": "code",
   "execution_count": null,
   "metadata": {
    "collapsed": false
   },
   "outputs": [],
   "source": [
    "import json\n",
    "\n",
    "dataset = json.load(open('/home/flipvanrijn/Workspace/Dedicon-Thesis/downloads/imagenet_dataset_train.json'))\n",
    "dataset_path = '/media/Data/flipvanrijn/datasets/imagenet/images/train/'"
   ]
  },
  {
   "cell_type": "code",
   "execution_count": null,
   "metadata": {
    "collapsed": false
   },
   "outputs": [],
   "source": [
    "classes = []\n",
    "images = {}\n",
    "annotations = {}\n",
    "annotations_classes = {}\n",
    "for entry_idx, entry in enumerate(dataset):\n",
    "    for cls in entry['classes']:\n",
    "        if cls not in classes:\n",
    "            classes.append(cls)\n",
    "    if len(entry['classes']) > 0:\n",
    "        images['{}{}'.format(dataset_path, entry['image'])] = entry_idx\n",
    "    annotations[entry_idx] = entry['bboxes']\n",
    "    annotations_classes[entry_idx] = entry['classes']\n",
    "class_to_idx = dict(zip(classes, xrange(len(classes))))"
   ]
  },
  {
   "cell_type": "code",
   "execution_count": null,
   "metadata": {
    "collapsed": false
   },
   "outputs": [],
   "source": [
    "for i, (obs, classes) in enumerate(zip(annotations[0], annotations_classes[0])):\n",
    "    print i, obs, classes"
   ]
  },
  {
   "cell_type": "markdown",
   "metadata": {},
   "source": [
    "###Selecting subset of images###"
   ]
  },
  {
   "cell_type": "code",
   "execution_count": 2,
   "metadata": {
    "collapsed": false
   },
   "outputs": [],
   "source": [
    "import os, fnmatch\n",
    "\n",
    "annotations = []\n",
    "for root, dirnames, filenames in os.walk('/media/Data/flipvanrijn/datasets/imagenet/annotations/train/'):\n",
    "    for filename in fnmatch.filter(filenames, '*.xml'):\n",
    "        annotations.append(os.path.join(root, filename))"
   ]
  },
  {
   "cell_type": "code",
   "execution_count": 3,
   "metadata": {
    "collapsed": false
   },
   "outputs": [
    {
     "data": {
      "text/plain": [
       "349317"
      ]
     },
     "execution_count": 3,
     "metadata": {},
     "output_type": "execute_result"
    }
   ],
   "source": [
    "len(annotations)"
   ]
  },
  {
   "cell_type": "code",
   "execution_count": 4,
   "metadata": {
    "collapsed": false
   },
   "outputs": [
    {
     "name": "stdout",
     "output_type": "stream",
     "text": [
      "Parsing annotations...\n",
      "0/349317\n",
      "10000/349317\n",
      "20000/349317\n",
      "30000/349317\n",
      "40000/349317\n",
      "50000/349317\n",
      "60000/349317\n",
      "70000/349317\n",
      "80000/349317\n",
      "90000/349317\n",
      "100000/349317\n",
      "110000/349317\n",
      "120000/349317\n",
      "130000/349317\n",
      "140000/349317\n",
      "150000/349317\n",
      "160000/349317\n",
      "170000/349317\n",
      "180000/349317\n",
      "190000/349317\n",
      "200000/349317\n",
      "210000/349317\n",
      "220000/349317\n",
      "230000/349317\n",
      "240000/349317\n",
      "250000/349317\n",
      "260000/349317\n",
      "270000/349317\n",
      "280000/349317\n",
      "290000/349317\n",
      "300000/349317\n",
      "310000/349317\n",
      "320000/349317\n",
      "330000/349317\n",
      "340000/349317\n"
     ]
    }
   ],
   "source": [
    "from lxml import etree\n",
    "\n",
    "ann_to_img = {}\n",
    "print 'Parsing annotations...'\n",
    "for idx, ann in enumerate(annotations):\n",
    "    with open(ann) as ann_f:\n",
    "        tree = etree.parse(ann_f)\n",
    "    \n",
    "    for obj in tree.xpath('object'):\n",
    "        cls = obj.xpath('./name/text()')[0]\n",
    "        img_file = tree.xpath('filename/text()')[0]\n",
    "        img_dir  = tree.xpath('folder/text()')[0]\n",
    "        img_name = os.path.join(img_dir, img_file)\n",
    "        if cls in ann_to_img.keys():\n",
    "            ann_to_img[cls].append(img_name)\n",
    "        else:\n",
    "            ann_to_img[cls] = [img_name]\n",
    "    if idx % 10000 == 0:\n",
    "        print '{}/{}'.format(idx, len(annotations))"
   ]
  },
  {
   "cell_type": "code",
   "execution_count": 5,
   "metadata": {
    "collapsed": false,
    "scrolled": true
   },
   "outputs": [],
   "source": [
    "import random\n",
    "\n",
    "images_per_synset = 1500\n",
    "\n",
    "with open('/media/Data/flipvanrijn/datasets/imagenet/selected-images-1500.txt', 'w') as f:\n",
    "    for synset, images in ann_to_img.items():\n",
    "        selected_imgs = images\n",
    "        random.shuffle(selected_imgs)\n",
    "        for img in selected_imgs[:images_per_synset]:\n",
    "            f.write('{}\\n'.format(img))"
   ]
  },
  {
   "cell_type": "markdown",
   "metadata": {},
   "source": [
    "## "
   ]
  }
 ],
 "metadata": {
  "kernelspec": {
   "display_name": "Python 2",
   "language": "python",
   "name": "python2"
  },
  "language_info": {
   "codemirror_mode": {
    "name": "ipython",
    "version": 2
   },
   "file_extension": ".py",
   "mimetype": "text/x-python",
   "name": "python",
   "nbconvert_exporter": "python",
   "pygments_lexer": "ipython2",
   "version": "2.7.10"
  }
 },
 "nbformat": 4,
 "nbformat_minor": 0
}
