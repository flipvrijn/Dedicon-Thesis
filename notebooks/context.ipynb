{
 "cells": [
  {
   "cell_type": "code",
   "execution_count": 391,
   "metadata": {
    "collapsed": true
   },
   "outputs": [],
   "source": [
    "import cPickle\n",
    "import matplotlib.pyplot as plt\n",
    "import numpy as np\n",
    "from progress.bar import Bar\n",
    "np.random.seed(1234)"
   ]
  },
  {
   "cell_type": "code",
   "execution_count": 390,
   "metadata": {
    "collapsed": true
   },
   "outputs": [],
   "source": [
    "with open('/media/Data/flipvanrijn/datasets/coco/context/coco_train_context.pkl', 'r') as f:\n",
    "    titles = cPickle.load(f)\n",
    "    descriptions = cPickle.load(f)\n",
    "    tags = cPickle.load(f)\n",
    "\n",
    "with open('/media/Data/flipvanrijn/datasets/coco/coco_align.train.pkl', 'rb') as f:\n",
    "    captions = cPickle.load(f)\n",
    "\n",
    "with open('/media/Data/flipvanrijn/datasets/coco/images/train2014list.txt', 'r') as f:\n",
    "    images = f.read().split()"
   ]
  },
  {
   "cell_type": "code",
   "execution_count": 3,
   "metadata": {
    "collapsed": false
   },
   "outputs": [],
   "source": [
    "im2idx = {}\n",
    "for i, data in enumerate(captions):\n",
    "    cap, im = data\n",
    "    if im in im2idx:\n",
    "        im2idx[im].append(i)\n",
    "    else:\n",
    "        im2idx[im] = [i]"
   ]
  },
  {
   "cell_type": "code",
   "execution_count": 437,
   "metadata": {
    "collapsed": false
   },
   "outputs": [],
   "source": [
    "import gensim\n",
    "model = gensim.models.Word2Vec.load_word2vec_format('/media/Data/flipvanrijn/models/word2vec/enwiki-latest-pages.bin', binary=True)"
   ]
  },
  {
   "cell_type": "code",
   "execution_count": 415,
   "metadata": {
    "collapsed": false
   },
   "outputs": [],
   "source": [
    "import pandas as pd\n",
    "from nltk.corpus import stopwords\n",
    "from nltk.stem import WordNetLemmatizer\n",
    "\n",
    "stop = stopwords.words('english')\n",
    "stemmer = WordNetLemmatizer()\n",
    "\n",
    "def preprocess(s, model):\n",
    "    global stop, stemmer\n",
    "    \n",
    "    ns = []\n",
    "    for w in s:\n",
    "        w = stemmer.lemmatize(w)\n",
    "        if w in model and w not in stop:\n",
    "            ns.append(w)\n",
    "        \n",
    "    return ns\n",
    "\n",
    "def sim(s1, s2, model):\n",
    "    '''\n",
    "    m = np.zeros((len(s1), len(s2)))\n",
    "    for ii in xrange(len(s1)):\n",
    "        for jj in xrange(len(s2)):\n",
    "            if s1[ii] in normalized_vocab and s2[jj] in normalized_vocab:\n",
    "                s1i = normalized_vocab[s1[ii]]\n",
    "                s2j = normalized_vocab[s2[jj]]\n",
    "                m[ii][jj] = model.similarity(s1i, s2j)\n",
    "    return (m.sum() / np.count_nonzero(m))\n",
    "    '''\n",
    "    s1 = preprocess(s1, model)\n",
    "    s2 = preprocess(s2, model)\n",
    "    similarity = model.n_similarity(s1, s2)\n",
    "\n",
    "    return np.sum(similarity)\n",
    "\n",
    "def n_relevant(caption, title, description, tags, model, n=10):\n",
    "    scores = []\n",
    "    w_caption = caption.split(' ')\n",
    "    w_title   = title.split(' ')\n",
    "    if title:\n",
    "        try:\n",
    "            scores.append((sim(w_caption, w_title, model), title))\n",
    "        except:\n",
    "            print w_title\n",
    "            raise\n",
    "    for desc in description.split('.'):\n",
    "        w_desc = desc.split(' ')\n",
    "        if desc:\n",
    "            scores.append((sim(w_caption, w_desc, model), desc))\n",
    "    if tags:\n",
    "        scores.append((sim(w_caption, tags, model), ' '.join(tags)))\n",
    "    \n",
    "    df = pd.DataFrame(scores, columns=['score', 'sentence'])\n",
    "    df = df.dropna()\n",
    "    df = df.sort(['score'], ascending=False)[:n]\n",
    "    return df['score']\n",
    "\n",
    "def n_relevant_words(caption, title, description, tags, model, n=100):\n",
    "    def relevant(s1, s2, model):\n",
    "        m = np.zeros((len(s1), len(s2)))\n",
    "        for ii in xrange(len(s1)):\n",
    "            for jj in xrange(len(s2)):\n",
    "                if s1[ii] in model and s2[jj] in model:\n",
    "                    m[ii][jj] = model.similarity(s1[ii], s2[jj])\n",
    "        scores = []\n",
    "        for r, c in zip(np.argmax(m, axis=0), range(len(s2))):\n",
    "            scores.append((m[r][c], s2[c]))\n",
    "        return scores\n",
    "    \n",
    "    cap = preprocess(caption, model)\n",
    "    title = preprocess(title, model)\n",
    "    descs = description.split('.')\n",
    "    ts = preprocess(tags, model)\n",
    "\n",
    "    scores = []\n",
    "    scores += relevant(cap, title, model)\n",
    "    for desc in descs:\n",
    "        desc = preprocess(desc.split(' '), model)\n",
    "        scores += relevant(cap, desc, model)\n",
    "    scores += relevant(cap, ts, model)\n",
    "\n",
    "    df = pd.DataFrame(scores, columns=['score', 'word'])\n",
    "    df = df.sort(['score'], ascending=False)\n",
    "    df = df.dropna()\n",
    "    df = df.drop_duplicates()\n",
    "    return df['word'][:n]"
   ]
  },
  {
   "cell_type": "code",
   "execution_count": 385,
   "metadata": {
    "collapsed": true
   },
   "outputs": [
    {
     "name": "stdout",
     "output_type": "stream",
     "text": [
      "0\n",
      "1000\n",
      "2000\n",
      "3000\n",
      "4000\n",
      "5000\n",
      "6000\n",
      "7000\n",
      "8000\n",
      "9000\n",
      "10000\n",
      "11000\n",
      "12000\n",
      "13000\n",
      "14000\n",
      "15000\n",
      "16000\n",
      "17000\n",
      "18000\n",
      "19000\n",
      "20000\n",
      "21000\n",
      "22000\n",
      "23000\n",
      "24000\n",
      "25000\n",
      "26000\n",
      "27000\n",
      "28000\n",
      "29000\n",
      "30000\n",
      "31000\n",
      "32000\n",
      "33000\n",
      "34000\n",
      "35000\n",
      "36000\n",
      "37000\n",
      "38000\n",
      "39000\n",
      "40000\n",
      "41000\n",
      "42000\n",
      "43000\n",
      "44000\n",
      "45000\n",
      "46000\n",
      "47000\n",
      "48000\n",
      "49000\n",
      "50000\n",
      "51000\n",
      "52000\n",
      "53000\n",
      "54000\n",
      "55000\n",
      "56000\n",
      "57000\n",
      "58000\n",
      "59000\n",
      "60000\n",
      "61000\n",
      "62000\n",
      "63000\n",
      "64000\n",
      "65000\n",
      "66000\n",
      "67000\n",
      "68000\n",
      "69000\n",
      "70000\n",
      "71000\n",
      "72000\n",
      "73000\n",
      "74000\n",
      "75000\n",
      "76000\n",
      "77000\n",
      "78000\n",
      "79000\n",
      "80000\n",
      "81000\n",
      "82000\n"
     ]
    }
   ],
   "source": [
    "np.random.seed(1234)\n",
    "lengths = []\n",
    "for i in range(len(titles)):\n",
    "    caption_idx = np.random.choice(im2idx[i])\n",
    "    cap = captions[caption_idx][0].split(' ')\n",
    "    title = titles[i].split(' ')\n",
    "    desc = descriptions[i]\n",
    "    ts = tags[i]\n",
    "\n",
    "    relevant_words = n_relevant_words(cap, title, desc, ts, model)\n",
    "    lengths.append(relevant_words.shape[0])\n",
    "    if i % 1000 == 0:\n",
    "        print i"
   ]
  },
  {
   "cell_type": "code",
   "execution_count": 435,
   "metadata": {
    "collapsed": false
   },
   "outputs": [
    {
     "name": "stdout",
     "output_type": "stream",
     "text": [
      "0\n",
      "1000\n",
      "2000\n",
      "3000\n",
      "4000\n",
      "5000\n",
      "6000\n",
      "7000\n",
      "8000\n",
      "9000\n",
      "10000\n",
      "11000\n",
      "12000\n",
      "13000\n",
      "14000\n",
      "15000\n",
      "16000\n",
      "17000\n",
      "18000\n",
      "19000\n",
      "20000\n",
      "21000\n",
      "22000\n",
      "23000\n",
      "24000\n",
      "25000\n",
      "26000\n",
      "27000\n"
     ]
    },
    {
     "ename": "KeyboardInterrupt",
     "evalue": "",
     "output_type": "error",
     "traceback": [
      "\u001b[1;31m---------------------------------------------------------------------------\u001b[0m",
      "\u001b[1;31mKeyboardInterrupt\u001b[0m                         Traceback (most recent call last)",
      "\u001b[1;32m<ipython-input-435-e30f28554c26>\u001b[0m in \u001b[0;36m<module>\u001b[1;34m()\u001b[0m\n\u001b[0;32m     21\u001b[0m             \u001b[0mfeat_flatten\u001b[0m \u001b[1;33m=\u001b[0m \u001b[0mcsr_matrix\u001b[0m\u001b[1;33m(\u001b[0m\u001b[0mcontext\u001b[0m\u001b[1;33m.\u001b[0m\u001b[0mflatten\u001b[0m\u001b[1;33m(\u001b[0m\u001b[1;33m)\u001b[0m\u001b[1;33m)\u001b[0m\u001b[1;33m\u001b[0m\u001b[0m\n\u001b[0;32m     22\u001b[0m         \u001b[1;32melse\u001b[0m\u001b[1;33m:\u001b[0m\u001b[1;33m\u001b[0m\u001b[0m\n\u001b[1;32m---> 23\u001b[1;33m             \u001b[0mfeat_flatten\u001b[0m \u001b[1;33m=\u001b[0m \u001b[0mvstack\u001b[0m\u001b[1;33m(\u001b[0m\u001b[1;33m[\u001b[0m\u001b[0mfeat_flatten\u001b[0m\u001b[1;33m,\u001b[0m \u001b[0mcsr_matrix\u001b[0m\u001b[1;33m(\u001b[0m\u001b[0mcontext\u001b[0m\u001b[1;33m.\u001b[0m\u001b[0mflatten\u001b[0m\u001b[1;33m(\u001b[0m\u001b[1;33m)\u001b[0m\u001b[1;33m)\u001b[0m\u001b[1;33m]\u001b[0m\u001b[1;33m)\u001b[0m\u001b[1;33m\u001b[0m\u001b[0m\n\u001b[0m\u001b[0;32m     24\u001b[0m \u001b[1;33m\u001b[0m\u001b[0m\n\u001b[0;32m     25\u001b[0m     \u001b[1;32mif\u001b[0m \u001b[0mi\u001b[0m \u001b[1;33m%\u001b[0m \u001b[1;36m1000\u001b[0m \u001b[1;33m==\u001b[0m \u001b[1;36m0\u001b[0m\u001b[1;33m:\u001b[0m\u001b[1;33m\u001b[0m\u001b[0m\n",
      "\u001b[1;32m/usr/local/lib/python2.7/site-packages/scipy/sparse/construct.pyc\u001b[0m in \u001b[0;36mvstack\u001b[1;34m(blocks, format, dtype)\u001b[0m\n\u001b[0;32m    488\u001b[0m \u001b[1;33m\u001b[0m\u001b[0m\n\u001b[0;32m    489\u001b[0m     \"\"\"\n\u001b[1;32m--> 490\u001b[1;33m     \u001b[1;32mreturn\u001b[0m \u001b[0mbmat\u001b[0m\u001b[1;33m(\u001b[0m\u001b[1;33m[\u001b[0m\u001b[1;33m[\u001b[0m\u001b[0mb\u001b[0m\u001b[1;33m]\u001b[0m \u001b[1;32mfor\u001b[0m \u001b[0mb\u001b[0m \u001b[1;32min\u001b[0m \u001b[0mblocks\u001b[0m\u001b[1;33m]\u001b[0m\u001b[1;33m,\u001b[0m \u001b[0mformat\u001b[0m\u001b[1;33m=\u001b[0m\u001b[0mformat\u001b[0m\u001b[1;33m,\u001b[0m \u001b[0mdtype\u001b[0m\u001b[1;33m=\u001b[0m\u001b[0mdtype\u001b[0m\u001b[1;33m)\u001b[0m\u001b[1;33m\u001b[0m\u001b[0m\n\u001b[0m\u001b[0;32m    491\u001b[0m \u001b[1;33m\u001b[0m\u001b[0m\n\u001b[0;32m    492\u001b[0m \u001b[1;33m\u001b[0m\u001b[0m\n",
      "\u001b[1;32m/usr/local/lib/python2.7/site-packages/scipy/sparse/construct.pyc\u001b[0m in \u001b[0;36mbmat\u001b[1;34m(blocks, format, dtype)\u001b[0m\n\u001b[0;32m    544\u001b[0m     if (N == 1 and format in (None, 'csr') and all(isinstance(b, csr_matrix)\n\u001b[0;32m    545\u001b[0m                                                    for b in blocks.flat)):\n\u001b[1;32m--> 546\u001b[1;33m         \u001b[0mA\u001b[0m \u001b[1;33m=\u001b[0m \u001b[0m_compressed_sparse_stack\u001b[0m\u001b[1;33m(\u001b[0m\u001b[0mblocks\u001b[0m\u001b[1;33m[\u001b[0m\u001b[1;33m:\u001b[0m\u001b[1;33m,\u001b[0m\u001b[1;36m0\u001b[0m\u001b[1;33m]\u001b[0m\u001b[1;33m,\u001b[0m \u001b[1;36m0\u001b[0m\u001b[1;33m)\u001b[0m\u001b[1;33m\u001b[0m\u001b[0m\n\u001b[0m\u001b[0;32m    547\u001b[0m         \u001b[1;32mif\u001b[0m \u001b[0mdtype\u001b[0m \u001b[1;32mis\u001b[0m \u001b[1;32mnot\u001b[0m \u001b[0mNone\u001b[0m\u001b[1;33m:\u001b[0m\u001b[1;33m\u001b[0m\u001b[0m\n\u001b[0;32m    548\u001b[0m             \u001b[0mA\u001b[0m \u001b[1;33m=\u001b[0m \u001b[0mA\u001b[0m\u001b[1;33m.\u001b[0m\u001b[0mastype\u001b[0m\u001b[1;33m(\u001b[0m\u001b[0mdtype\u001b[0m\u001b[1;33m)\u001b[0m\u001b[1;33m\u001b[0m\u001b[0m\n",
      "\u001b[1;32m/usr/local/lib/python2.7/site-packages/scipy/sparse/construct.pyc\u001b[0m in \u001b[0;36m_compressed_sparse_stack\u001b[1;34m(blocks, axis)\u001b[0m\n\u001b[0;32m    403\u001b[0m     \u001b[0mother_axis\u001b[0m \u001b[1;33m=\u001b[0m \u001b[1;36m1\u001b[0m \u001b[1;32mif\u001b[0m \u001b[0maxis\u001b[0m \u001b[1;33m==\u001b[0m \u001b[1;36m0\u001b[0m \u001b[1;32melse\u001b[0m \u001b[1;36m0\u001b[0m\u001b[1;33m\u001b[0m\u001b[0m\n\u001b[0;32m    404\u001b[0m     \u001b[0mdata\u001b[0m \u001b[1;33m=\u001b[0m \u001b[0mnp\u001b[0m\u001b[1;33m.\u001b[0m\u001b[0mconcatenate\u001b[0m\u001b[1;33m(\u001b[0m\u001b[1;33m[\u001b[0m\u001b[0mb\u001b[0m\u001b[1;33m.\u001b[0m\u001b[0mdata\u001b[0m \u001b[1;32mfor\u001b[0m \u001b[0mb\u001b[0m \u001b[1;32min\u001b[0m \u001b[0mblocks\u001b[0m\u001b[1;33m]\u001b[0m\u001b[1;33m)\u001b[0m\u001b[1;33m\u001b[0m\u001b[0m\n\u001b[1;32m--> 405\u001b[1;33m     \u001b[0mindices\u001b[0m \u001b[1;33m=\u001b[0m \u001b[0mnp\u001b[0m\u001b[1;33m.\u001b[0m\u001b[0mconcatenate\u001b[0m\u001b[1;33m(\u001b[0m\u001b[1;33m[\u001b[0m\u001b[0mb\u001b[0m\u001b[1;33m.\u001b[0m\u001b[0mindices\u001b[0m \u001b[1;32mfor\u001b[0m \u001b[0mb\u001b[0m \u001b[1;32min\u001b[0m \u001b[0mblocks\u001b[0m\u001b[1;33m]\u001b[0m\u001b[1;33m)\u001b[0m\u001b[1;33m\u001b[0m\u001b[0m\n\u001b[0m\u001b[0;32m    406\u001b[0m     \u001b[0mindptr\u001b[0m \u001b[1;33m=\u001b[0m \u001b[1;33m[\u001b[0m\u001b[1;33m]\u001b[0m\u001b[1;33m\u001b[0m\u001b[0m\n\u001b[0;32m    407\u001b[0m     \u001b[0mlast_indptr\u001b[0m \u001b[1;33m=\u001b[0m \u001b[1;36m0\u001b[0m\u001b[1;33m\u001b[0m\u001b[0m\n",
      "\u001b[1;31mKeyboardInterrupt\u001b[0m: "
     ]
    }
   ],
   "source": [
    "from scipy.sparse import csr_matrix, vstack\n",
    "\n",
    "images_with_context = []\n",
    "for i, im in enumerate(images):\n",
    "    caption_idx = np.random.choice(im2idx[i])\n",
    "    cap = captions[caption_idx][0].split(' ')\n",
    "    title = titles[i].split(' ')\n",
    "    desc = descriptions[i]\n",
    "    ts = tags[i]\n",
    "\n",
    "    relevant_words = n_relevant_words(cap, title, desc, ts, model)\n",
    "    \n",
    "    if len(relevant_words) > 0:\n",
    "        images_with_context.append(im)\n",
    "        \n",
    "        context = np.zeros((100, 300), dtype=np.float32)\n",
    "        for wi, w in enumerate(relevant_words.values):\n",
    "            context[wi,:] = model[w]\n",
    "\n",
    "        if i == 0:\n",
    "            feat_flatten = csr_matrix(context.flatten())\n",
    "        else:\n",
    "            feat_flatten = vstack([feat_flatten, csr_matrix(context.flatten())])\n",
    "    \n",
    "    if i % 1000 == 0:\n",
    "        print i"
   ]
  },
  {
   "cell_type": "code",
   "execution_count": 434,
   "metadata": {
    "collapsed": false
   },
   "outputs": [
    {
     "data": {
      "text/plain": [
       "(<99x30000 sparse matrix of type '<type 'numpy.float32'>'\n",
       " \twith 561600 stored elements in Compressed Sparse Row format>,\n",
       " ['COCO_train2014_000000000009.jpg',\n",
       "  'COCO_train2014_000000000025.jpg',\n",
       "  'COCO_train2014_000000000030.jpg',\n",
       "  'COCO_train2014_000000000034.jpg',\n",
       "  'COCO_train2014_000000000036.jpg',\n",
       "  'COCO_train2014_000000000049.jpg',\n",
       "  'COCO_train2014_000000000061.jpg',\n",
       "  'COCO_train2014_000000000064.jpg',\n",
       "  'COCO_train2014_000000000071.jpg',\n",
       "  'COCO_train2014_000000000072.jpg',\n",
       "  'COCO_train2014_000000000077.jpg',\n",
       "  'COCO_train2014_000000000078.jpg',\n",
       "  'COCO_train2014_000000000081.jpg',\n",
       "  'COCO_train2014_000000000086.jpg',\n",
       "  'COCO_train2014_000000000089.jpg',\n",
       "  'COCO_train2014_000000000092.jpg',\n",
       "  'COCO_train2014_000000000094.jpg',\n",
       "  'COCO_train2014_000000000109.jpg',\n",
       "  'COCO_train2014_000000000110.jpg',\n",
       "  'COCO_train2014_000000000113.jpg',\n",
       "  'COCO_train2014_000000000127.jpg',\n",
       "  'COCO_train2014_000000000138.jpg',\n",
       "  'COCO_train2014_000000000142.jpg',\n",
       "  'COCO_train2014_000000000144.jpg',\n",
       "  'COCO_train2014_000000000149.jpg',\n",
       "  'COCO_train2014_000000000151.jpg',\n",
       "  'COCO_train2014_000000000154.jpg',\n",
       "  'COCO_train2014_000000000165.jpg',\n",
       "  'COCO_train2014_000000000194.jpg',\n",
       "  'COCO_train2014_000000000201.jpg',\n",
       "  'COCO_train2014_000000000247.jpg',\n",
       "  'COCO_train2014_000000000250.jpg',\n",
       "  'COCO_train2014_000000000260.jpg',\n",
       "  'COCO_train2014_000000000263.jpg',\n",
       "  'COCO_train2014_000000000307.jpg',\n",
       "  'COCO_train2014_000000000308.jpg',\n",
       "  'COCO_train2014_000000000309.jpg',\n",
       "  'COCO_train2014_000000000312.jpg',\n",
       "  'COCO_train2014_000000000315.jpg',\n",
       "  'COCO_train2014_000000000321.jpg',\n",
       "  'COCO_train2014_000000000322.jpg',\n",
       "  'COCO_train2014_000000000326.jpg',\n",
       "  'COCO_train2014_000000000332.jpg',\n",
       "  'COCO_train2014_000000000349.jpg',\n",
       "  'COCO_train2014_000000000368.jpg',\n",
       "  'COCO_train2014_000000000370.jpg',\n",
       "  'COCO_train2014_000000000382.jpg',\n",
       "  'COCO_train2014_000000000384.jpg',\n",
       "  'COCO_train2014_000000000389.jpg',\n",
       "  'COCO_train2014_000000000394.jpg',\n",
       "  'COCO_train2014_000000000404.jpg',\n",
       "  'COCO_train2014_000000000419.jpg',\n",
       "  'COCO_train2014_000000000431.jpg',\n",
       "  'COCO_train2014_000000000436.jpg',\n",
       "  'COCO_train2014_000000000438.jpg',\n",
       "  'COCO_train2014_000000000443.jpg',\n",
       "  'COCO_train2014_000000000446.jpg',\n",
       "  'COCO_train2014_000000000450.jpg',\n",
       "  'COCO_train2014_000000000471.jpg',\n",
       "  'COCO_train2014_000000000490.jpg',\n",
       "  'COCO_train2014_000000000491.jpg',\n",
       "  'COCO_train2014_000000000508.jpg',\n",
       "  'COCO_train2014_000000000510.jpg',\n",
       "  'COCO_train2014_000000000514.jpg',\n",
       "  'COCO_train2014_000000000529.jpg',\n",
       "  'COCO_train2014_000000000531.jpg',\n",
       "  'COCO_train2014_000000000532.jpg',\n",
       "  'COCO_train2014_000000000540.jpg',\n",
       "  'COCO_train2014_000000000542.jpg',\n",
       "  'COCO_train2014_000000000560.jpg',\n",
       "  'COCO_train2014_000000000562.jpg',\n",
       "  'COCO_train2014_000000000572.jpg',\n",
       "  'COCO_train2014_000000000575.jpg',\n",
       "  'COCO_train2014_000000000581.jpg',\n",
       "  'COCO_train2014_000000000584.jpg',\n",
       "  'COCO_train2014_000000000595.jpg',\n",
       "  'COCO_train2014_000000000597.jpg',\n",
       "  'COCO_train2014_000000000605.jpg',\n",
       "  'COCO_train2014_000000000612.jpg',\n",
       "  'COCO_train2014_000000000620.jpg',\n",
       "  'COCO_train2014_000000000625.jpg',\n",
       "  'COCO_train2014_000000000629.jpg',\n",
       "  'COCO_train2014_000000000634.jpg',\n",
       "  'COCO_train2014_000000000643.jpg',\n",
       "  'COCO_train2014_000000000650.jpg',\n",
       "  'COCO_train2014_000000000656.jpg',\n",
       "  'COCO_train2014_000000000659.jpg',\n",
       "  'COCO_train2014_000000000670.jpg',\n",
       "  'COCO_train2014_000000000671.jpg',\n",
       "  'COCO_train2014_000000000673.jpg',\n",
       "  'COCO_train2014_000000000681.jpg',\n",
       "  'COCO_train2014_000000000684.jpg',\n",
       "  'COCO_train2014_000000000690.jpg',\n",
       "  'COCO_train2014_000000000706.jpg',\n",
       "  'COCO_train2014_000000000714.jpg',\n",
       "  'COCO_train2014_000000000716.jpg',\n",
       "  'COCO_train2014_000000000723.jpg',\n",
       "  'COCO_train2014_000000000731.jpg',\n",
       "  'COCO_train2014_000000000735.jpg'])"
      ]
     },
     "execution_count": 434,
     "metadata": {},
     "output_type": "execute_result"
    }
   ],
   "source": []
  },
  {
   "cell_type": "code",
   "execution_count": 339,
   "metadata": {
    "collapsed": true
   },
   "outputs": [
    {
     "name": "stdout",
     "output_type": "stream",
     "text": [
      "0\n",
      "1000\n",
      "2000\n",
      "3000\n",
      "4000\n",
      "5000\n",
      "6000\n"
     ]
    },
    {
     "ename": "KeyboardInterrupt",
     "evalue": "",
     "output_type": "error",
     "traceback": [
      "\u001b[1;31m---------------------------------------------------------------------------\u001b[0m",
      "\u001b[1;31mKeyboardInterrupt\u001b[0m                         Traceback (most recent call last)",
      "\u001b[1;32m<ipython-input-339-ac59cb05ed21>\u001b[0m in \u001b[0;36m<module>\u001b[1;34m()\u001b[0m\n\u001b[0;32m      4\u001b[0m     \u001b[0mcaption_idx\u001b[0m \u001b[1;33m=\u001b[0m \u001b[0mnp\u001b[0m\u001b[1;33m.\u001b[0m\u001b[0mrandom\u001b[0m\u001b[1;33m.\u001b[0m\u001b[0mrandint\u001b[0m\u001b[1;33m(\u001b[0m\u001b[0mlen\u001b[0m\u001b[1;33m(\u001b[0m\u001b[0mim2idx\u001b[0m\u001b[1;33m[\u001b[0m\u001b[0mi\u001b[0m\u001b[1;33m]\u001b[0m\u001b[1;33m)\u001b[0m\u001b[1;33m)\u001b[0m\u001b[1;33m\u001b[0m\u001b[0m\n\u001b[0;32m      5\u001b[0m     \u001b[0mcaption\u001b[0m \u001b[1;33m=\u001b[0m \u001b[0mcaptions\u001b[0m\u001b[1;33m[\u001b[0m\u001b[0mcaption_idx\u001b[0m\u001b[1;33m]\u001b[0m\u001b[1;33m[\u001b[0m\u001b[1;36m0\u001b[0m\u001b[1;33m]\u001b[0m\u001b[1;33m\u001b[0m\u001b[0m\n\u001b[1;32m----> 6\u001b[1;33m     \u001b[0mscores\u001b[0m\u001b[1;33m.\u001b[0m\u001b[0mappend\u001b[0m\u001b[1;33m(\u001b[0m\u001b[0mn_relevant\u001b[0m\u001b[1;33m(\u001b[0m\u001b[0mcaption\u001b[0m\u001b[1;33m,\u001b[0m \u001b[0mtitles\u001b[0m\u001b[1;33m[\u001b[0m\u001b[0mi\u001b[0m\u001b[1;33m]\u001b[0m\u001b[1;33m,\u001b[0m \u001b[0mdescriptions\u001b[0m\u001b[1;33m[\u001b[0m\u001b[0mi\u001b[0m\u001b[1;33m]\u001b[0m\u001b[1;33m,\u001b[0m \u001b[0mtags\u001b[0m\u001b[1;33m[\u001b[0m\u001b[0mi\u001b[0m\u001b[1;33m]\u001b[0m\u001b[1;33m,\u001b[0m \u001b[0mmodel\u001b[0m\u001b[1;33m)\u001b[0m\u001b[1;33m)\u001b[0m\u001b[1;33m\u001b[0m\u001b[0m\n\u001b[0m\u001b[0;32m      7\u001b[0m     \u001b[1;32mif\u001b[0m \u001b[0mi\u001b[0m \u001b[1;33m%\u001b[0m \u001b[1;36m1000\u001b[0m \u001b[1;33m==\u001b[0m \u001b[1;36m0\u001b[0m\u001b[1;33m:\u001b[0m\u001b[1;33m\u001b[0m\u001b[0m\n\u001b[0;32m      8\u001b[0m         \u001b[1;32mprint\u001b[0m \u001b[0mi\u001b[0m\u001b[1;33m\u001b[0m\u001b[0m\n",
      "\u001b[1;32m<ipython-input-319-2a0d8c649ed3>\u001b[0m in \u001b[0;36mn_relevant\u001b[1;34m(caption, title, description, tags, model, n)\u001b[0m\n\u001b[0;32m     52\u001b[0m \u001b[1;33m\u001b[0m\u001b[0m\n\u001b[0;32m     53\u001b[0m     \u001b[0mdf\u001b[0m \u001b[1;33m=\u001b[0m \u001b[0mpd\u001b[0m\u001b[1;33m.\u001b[0m\u001b[0mDataFrame\u001b[0m\u001b[1;33m(\u001b[0m\u001b[0mscores\u001b[0m\u001b[1;33m,\u001b[0m \u001b[0mcolumns\u001b[0m\u001b[1;33m=\u001b[0m\u001b[1;33m[\u001b[0m\u001b[1;34m'score'\u001b[0m\u001b[1;33m,\u001b[0m \u001b[1;34m'sentence'\u001b[0m\u001b[1;33m]\u001b[0m\u001b[1;33m)\u001b[0m\u001b[1;33m\u001b[0m\u001b[0m\n\u001b[1;32m---> 54\u001b[1;33m     \u001b[0mdf\u001b[0m \u001b[1;33m=\u001b[0m \u001b[0mdf\u001b[0m\u001b[1;33m.\u001b[0m\u001b[0mdropna\u001b[0m\u001b[1;33m(\u001b[0m\u001b[1;33m)\u001b[0m\u001b[1;33m\u001b[0m\u001b[0m\n\u001b[0m\u001b[0;32m     55\u001b[0m     \u001b[0mdf\u001b[0m \u001b[1;33m=\u001b[0m \u001b[0mdf\u001b[0m\u001b[1;33m.\u001b[0m\u001b[0msort\u001b[0m\u001b[1;33m(\u001b[0m\u001b[1;33m[\u001b[0m\u001b[1;34m'score'\u001b[0m\u001b[1;33m]\u001b[0m\u001b[1;33m,\u001b[0m \u001b[0mascending\u001b[0m\u001b[1;33m=\u001b[0m\u001b[0mFalse\u001b[0m\u001b[1;33m)\u001b[0m\u001b[1;33m[\u001b[0m\u001b[1;33m:\u001b[0m\u001b[0mn\u001b[0m\u001b[1;33m]\u001b[0m\u001b[1;33m\u001b[0m\u001b[0m\n\u001b[0;32m     56\u001b[0m     \u001b[1;32mreturn\u001b[0m \u001b[0mdf\u001b[0m\u001b[1;33m[\u001b[0m\u001b[1;34m'score'\u001b[0m\u001b[1;33m]\u001b[0m\u001b[1;33m\u001b[0m\u001b[0m\n",
      "\u001b[1;32m/usr/local/lib/python2.7/site-packages/pandas/core/frame.pyc\u001b[0m in \u001b[0;36mdropna\u001b[1;34m(self, axis, how, thresh, subset, inplace)\u001b[0m\n\u001b[0;32m   2784\u001b[0m                 \u001b[0magg_obj\u001b[0m \u001b[1;33m=\u001b[0m \u001b[0mself\u001b[0m\u001b[1;33m.\u001b[0m\u001b[0mtake\u001b[0m\u001b[1;33m(\u001b[0m\u001b[0mindices\u001b[0m\u001b[1;33m,\u001b[0m\u001b[0maxis\u001b[0m\u001b[1;33m=\u001b[0m\u001b[0magg_axis\u001b[0m\u001b[1;33m)\u001b[0m\u001b[1;33m\u001b[0m\u001b[0m\n\u001b[0;32m   2785\u001b[0m \u001b[1;33m\u001b[0m\u001b[0m\n\u001b[1;32m-> 2786\u001b[1;33m             \u001b[0mcount\u001b[0m \u001b[1;33m=\u001b[0m \u001b[0magg_obj\u001b[0m\u001b[1;33m.\u001b[0m\u001b[0mcount\u001b[0m\u001b[1;33m(\u001b[0m\u001b[0maxis\u001b[0m\u001b[1;33m=\u001b[0m\u001b[0magg_axis\u001b[0m\u001b[1;33m)\u001b[0m\u001b[1;33m\u001b[0m\u001b[0m\n\u001b[0m\u001b[0;32m   2787\u001b[0m \u001b[1;33m\u001b[0m\u001b[0m\n\u001b[0;32m   2788\u001b[0m             \u001b[1;32mif\u001b[0m \u001b[0mthresh\u001b[0m \u001b[1;32mis\u001b[0m \u001b[1;32mnot\u001b[0m \u001b[0mNone\u001b[0m\u001b[1;33m:\u001b[0m\u001b[1;33m\u001b[0m\u001b[0m\n",
      "\u001b[1;32m/usr/local/lib/python2.7/site-packages/pandas/core/frame.pyc\u001b[0m in \u001b[0;36mcount\u001b[1;34m(self, axis, level, numeric_only)\u001b[0m\n\u001b[0;32m   4248\u001b[0m         \u001b[1;32melse\u001b[0m\u001b[1;33m:\u001b[0m\u001b[1;33m\u001b[0m\u001b[0m\n\u001b[0;32m   4249\u001b[0m             \u001b[1;32mif\u001b[0m \u001b[0mframe\u001b[0m\u001b[1;33m.\u001b[0m\u001b[0m_is_mixed_type\u001b[0m\u001b[1;33m:\u001b[0m\u001b[1;33m\u001b[0m\u001b[0m\n\u001b[1;32m-> 4250\u001b[1;33m                 \u001b[0mresult\u001b[0m \u001b[1;33m=\u001b[0m \u001b[0mnotnull\u001b[0m\u001b[1;33m(\u001b[0m\u001b[0mframe\u001b[0m\u001b[1;33m)\u001b[0m\u001b[1;33m.\u001b[0m\u001b[0msum\u001b[0m\u001b[1;33m(\u001b[0m\u001b[0maxis\u001b[0m\u001b[1;33m=\u001b[0m\u001b[0maxis\u001b[0m\u001b[1;33m)\u001b[0m\u001b[1;33m\u001b[0m\u001b[0m\n\u001b[0m\u001b[0;32m   4251\u001b[0m             \u001b[1;32melse\u001b[0m\u001b[1;33m:\u001b[0m\u001b[1;33m\u001b[0m\u001b[0m\n\u001b[0;32m   4252\u001b[0m                 \u001b[0mcounts\u001b[0m \u001b[1;33m=\u001b[0m \u001b[0mnotnull\u001b[0m\u001b[1;33m(\u001b[0m\u001b[0mframe\u001b[0m\u001b[1;33m.\u001b[0m\u001b[0mvalues\u001b[0m\u001b[1;33m)\u001b[0m\u001b[1;33m.\u001b[0m\u001b[0msum\u001b[0m\u001b[1;33m(\u001b[0m\u001b[0maxis\u001b[0m\u001b[1;33m=\u001b[0m\u001b[0maxis\u001b[0m\u001b[1;33m)\u001b[0m\u001b[1;33m\u001b[0m\u001b[0m\n",
      "\u001b[1;32m/usr/local/lib/python2.7/site-packages/pandas/core/generic.pyc\u001b[0m in \u001b[0;36mstat_func\u001b[1;34m(self, axis, skipna, level, numeric_only, **kwargs)\u001b[0m\n\u001b[0;32m   4253\u001b[0m                                               skipna=skipna)\n\u001b[0;32m   4254\u001b[0m                 return self._reduce(f, name, axis=axis,\n\u001b[1;32m-> 4255\u001b[1;33m                                     skipna=skipna, numeric_only=numeric_only)\n\u001b[0m\u001b[0;32m   4256\u001b[0m             \u001b[0mstat_func\u001b[0m\u001b[1;33m.\u001b[0m\u001b[0m__name__\u001b[0m \u001b[1;33m=\u001b[0m \u001b[0mname\u001b[0m\u001b[1;33m\u001b[0m\u001b[0m\n\u001b[0;32m   4257\u001b[0m             \u001b[1;32mreturn\u001b[0m \u001b[0mstat_func\u001b[0m\u001b[1;33m\u001b[0m\u001b[0m\n",
      "\u001b[1;32m/usr/local/lib/python2.7/site-packages/pandas/core/frame.pyc\u001b[0m in \u001b[0;36m_reduce\u001b[1;34m(self, op, name, axis, skipna, numeric_only, filter_type, **kwds)\u001b[0m\n\u001b[0;32m   4366\u001b[0m                     \u001b[0mresult\u001b[0m \u001b[1;33m=\u001b[0m \u001b[0mcom\u001b[0m\u001b[1;33m.\u001b[0m\u001b[0m_coerce_to_dtypes\u001b[0m\u001b[1;33m(\u001b[0m\u001b[0mresult\u001b[0m\u001b[1;33m,\u001b[0m \u001b[0mself\u001b[0m\u001b[1;33m.\u001b[0m\u001b[0mdtypes\u001b[0m\u001b[1;33m)\u001b[0m\u001b[1;33m\u001b[0m\u001b[0m\n\u001b[0;32m   4367\u001b[0m \u001b[1;33m\u001b[0m\u001b[0m\n\u001b[1;32m-> 4368\u001b[1;33m         \u001b[1;32mreturn\u001b[0m \u001b[0mSeries\u001b[0m\u001b[1;33m(\u001b[0m\u001b[0mresult\u001b[0m\u001b[1;33m,\u001b[0m \u001b[0mindex\u001b[0m\u001b[1;33m=\u001b[0m\u001b[0mlabels\u001b[0m\u001b[1;33m)\u001b[0m\u001b[1;33m\u001b[0m\u001b[0m\n\u001b[0m\u001b[0;32m   4369\u001b[0m \u001b[1;33m\u001b[0m\u001b[0m\n\u001b[0;32m   4370\u001b[0m     \u001b[1;32mdef\u001b[0m \u001b[0midxmin\u001b[0m\u001b[1;33m(\u001b[0m\u001b[0mself\u001b[0m\u001b[1;33m,\u001b[0m \u001b[0maxis\u001b[0m\u001b[1;33m=\u001b[0m\u001b[1;36m0\u001b[0m\u001b[1;33m,\u001b[0m \u001b[0mskipna\u001b[0m\u001b[1;33m=\u001b[0m\u001b[0mTrue\u001b[0m\u001b[1;33m)\u001b[0m\u001b[1;33m:\u001b[0m\u001b[1;33m\u001b[0m\u001b[0m\n",
      "\u001b[1;32m/usr/local/lib/python2.7/site-packages/pandas/core/series.pyc\u001b[0m in \u001b[0;36m__init__\u001b[1;34m(self, data, index, dtype, name, copy, fastpath)\u001b[0m\n\u001b[0;32m    218\u001b[0m                                        raise_cast_failure=True)\n\u001b[0;32m    219\u001b[0m \u001b[1;33m\u001b[0m\u001b[0m\n\u001b[1;32m--> 220\u001b[1;33m                 \u001b[0mdata\u001b[0m \u001b[1;33m=\u001b[0m \u001b[0mSingleBlockManager\u001b[0m\u001b[1;33m(\u001b[0m\u001b[0mdata\u001b[0m\u001b[1;33m,\u001b[0m \u001b[0mindex\u001b[0m\u001b[1;33m,\u001b[0m \u001b[0mfastpath\u001b[0m\u001b[1;33m=\u001b[0m\u001b[0mTrue\u001b[0m\u001b[1;33m)\u001b[0m\u001b[1;33m\u001b[0m\u001b[0m\n\u001b[0m\u001b[0;32m    221\u001b[0m \u001b[1;33m\u001b[0m\u001b[0m\n\u001b[0;32m    222\u001b[0m         \u001b[0mgeneric\u001b[0m\u001b[1;33m.\u001b[0m\u001b[0mNDFrame\u001b[0m\u001b[1;33m.\u001b[0m\u001b[0m__init__\u001b[0m\u001b[1;33m(\u001b[0m\u001b[0mself\u001b[0m\u001b[1;33m,\u001b[0m \u001b[0mdata\u001b[0m\u001b[1;33m,\u001b[0m \u001b[0mfastpath\u001b[0m\u001b[1;33m=\u001b[0m\u001b[0mTrue\u001b[0m\u001b[1;33m)\u001b[0m\u001b[1;33m\u001b[0m\u001b[0m\n",
      "\u001b[1;32m/usr/local/lib/python2.7/site-packages/pandas/core/internals.pyc\u001b[0m in \u001b[0;36m__init__\u001b[1;34m(self, block, axis, do_integrity_check, fastpath)\u001b[0m\n\u001b[0;32m   3378\u001b[0m                 \u001b[0mblock\u001b[0m \u001b[1;33m=\u001b[0m \u001b[0mblock\u001b[0m\u001b[1;33m[\u001b[0m\u001b[1;36m0\u001b[0m\u001b[1;33m]\u001b[0m\u001b[1;33m\u001b[0m\u001b[0m\n\u001b[0;32m   3379\u001b[0m \u001b[1;33m\u001b[0m\u001b[0m\n\u001b[1;32m-> 3380\u001b[1;33m         \u001b[1;32mif\u001b[0m \u001b[1;32mnot\u001b[0m \u001b[0misinstance\u001b[0m\u001b[1;33m(\u001b[0m\u001b[0mblock\u001b[0m\u001b[1;33m,\u001b[0m \u001b[0mBlock\u001b[0m\u001b[1;33m)\u001b[0m\u001b[1;33m:\u001b[0m\u001b[1;33m\u001b[0m\u001b[0m\n\u001b[0m\u001b[0;32m   3381\u001b[0m             block = make_block(block,\n\u001b[0;32m   3382\u001b[0m                                \u001b[0mplacement\u001b[0m\u001b[1;33m=\u001b[0m\u001b[0mslice\u001b[0m\u001b[1;33m(\u001b[0m\u001b[1;36m0\u001b[0m\u001b[1;33m,\u001b[0m \u001b[0mlen\u001b[0m\u001b[1;33m(\u001b[0m\u001b[0maxis\u001b[0m\u001b[1;33m)\u001b[0m\u001b[1;33m)\u001b[0m\u001b[1;33m,\u001b[0m\u001b[1;33m\u001b[0m\u001b[0m\n",
      "\u001b[1;31mKeyboardInterrupt\u001b[0m: "
     ]
    }
   ],
   "source": [
    "scores = []\n",
    "\n",
    "for i in xrange(len(titles)):\n",
    "    caption_idx = np.random.randint(len(im2idx[i]))\n",
    "    caption = captions[caption_idx][0]\n",
    "    scores.append(n_relevant(caption, titles[i], descriptions[i], tags[i], model))\n",
    "    if i % 1000 == 0:\n",
    "        print i\n"
   ]
  },
  {
   "cell_type": "code",
   "execution_count": 77,
   "metadata": {
    "collapsed": false
   },
   "outputs": [
    {
     "name": "stdout",
     "output_type": "stream",
     "text": [
      "table\n",
      "prep\n",
      "0.0833333333333 0.0909090909091 0.142857142857\n"
     ]
    }
   ],
   "source": [
    "from nltk.stem import WordNetLemmatizer, LancasterStemmer, SnowballStemmer\n",
    "from nltk.corpus import wordnet\n",
    "\n",
    "wnl = WordNetLemmatizer()\n",
    "lst = LancasterStemmer()\n",
    "sst = SnowballStemmer(\"english\")\n",
    "print wnl.lemmatize('tables')\n",
    "print lst.stem('preparing')\n",
    "model.similarity('kitchen', 'cake')\n",
    "\n",
    "a = wordnet.synsets('dessert')[0]\n",
    "b = wordnet.synsets('cakes')[0]\n",
    "c = wordnet.synset('prepare.v.03')\n",
    "d = wordnet.synset('frosting.n.01')\n",
    "print b.path_similarity(a), c.path_similarity(a), d.path_similarity(b)\n"
   ]
  },
  {
   "cell_type": "code",
   "execution_count": 137,
   "metadata": {
    "collapsed": false
   },
   "outputs": [],
   "source": [
    "summed_scores = []\n",
    "for s in scores:\n",
    "    if len(s) > 0:\n",
    "        summed_scores.append(sum(s) / len(s))\n",
    "\n",
    "import matplotlib.pyplot as plt\n",
    "plt.hist(summed_scores)\n",
    "plt.show()"
   ]
  },
  {
   "cell_type": "code",
   "execution_count": 131,
   "metadata": {
    "collapsed": false
   },
   "outputs": [
    {
     "name": "stdout",
     "output_type": "stream",
     "text": [
      "0\n",
      "1000\n",
      "2000\n",
      "3000\n",
      "4000\n"
     ]
    }
   ],
   "source": [
    "scores_mismatch = []\n",
    "for i in xrange(5000):\n",
    "    choice_idxs = range(len(titles))\n",
    "    del choice_idxs[i] # remove current\n",
    "    caption_idx = np.random.randint(len(im2idx[np.random.choice(choice_idxs)]))\n",
    "    caption = captions[caption_idx][0]\n",
    "    scores_mismatch.append(n_relevant(caption, titles[i], descriptions[i], tags[i], model))\n",
    "    if i % 1000 == 0:\n",
    "        print i"
   ]
  },
  {
   "cell_type": "code",
   "execution_count": 138,
   "metadata": {
    "collapsed": false
   },
   "outputs": [],
   "source": [
    "summed_scores_mismatch = []\n",
    "for s in scores_mismatch:\n",
    "    if len(s) > 0:\n",
    "        summed_scores_mismatch.append(sum(s) / len(s))\n",
    "\n",
    "import matplotlib.pyplot as plt\n",
    "plt.hist(summed_scores_mismatch)\n",
    "plt.hist(summed_scores)\n",
    "plt.show()"
   ]
  },
  {
   "cell_type": "code",
   "execution_count": 139,
   "metadata": {
    "collapsed": false
   },
   "outputs": [],
   "source": [
    "plt.scatter(range(len(summed_scores)), summed_scores)\n",
    "plt.scatter(range(len(summed_scores_mismatch)), summed_scores_mismatch)\n",
    "plt.show()"
   ]
  },
  {
   "cell_type": "code",
   "execution_count": 202,
   "metadata": {
    "collapsed": false
   },
   "outputs": [],
   "source": [
    "# context size\n",
    "sizes = []\n",
    "for i in xrange(len(titles)):\n",
    "    count = 0\n",
    "    if titles[i]:\n",
    "        count += len(titles[i].split(' '))\n",
    "    if descriptions[i]:\n",
    "        for s in descriptions[i].split('.'):\n",
    "            for w in s.split(\" \"):\n",
    "                count += 1\n",
    "    if tags[i]:\n",
    "        count += len(tags[i])\n",
    "    sizes.append(count)"
   ]
  },
  {
   "cell_type": "code",
   "execution_count": 204,
   "metadata": {
    "collapsed": false
   },
   "outputs": [],
   "source": [
    "plt.hist(sizes, bins=100, range=(0, 100), cumulative=False)\n",
    "plt.show()"
   ]
  },
  {
   "cell_type": "code",
   "execution_count": 216,
   "metadata": {
    "collapsed": false,
    "scrolled": true
   },
   "outputs": [
    {
     "name": "stdout",
     "output_type": "stream",
     "text": [
      "5\n"
     ]
    }
   ],
   "source": []
  },
  {
   "cell_type": "code",
   "execution_count": 217,
   "metadata": {
    "collapsed": false
   },
   "outputs": [
    {
     "data": {
      "text/plain": [
       "2359908"
      ]
     },
     "execution_count": 217,
     "metadata": {},
     "output_type": "execute_result"
    }
   ],
   "source": [
    "sum(sizes)"
   ]
  },
  {
   "cell_type": "code",
   "execution_count": null,
   "metadata": {
    "collapsed": true
   },
   "outputs": [],
   "source": []
  }
 ],
 "metadata": {
  "kernelspec": {
   "display_name": "Python 2",
   "language": "python",
   "name": "python2"
  },
  "language_info": {
   "codemirror_mode": {
    "name": "ipython",
    "version": 2
   },
   "file_extension": ".py",
   "mimetype": "text/x-python",
   "name": "python",
   "nbconvert_exporter": "python",
   "pygments_lexer": "ipython2",
   "version": "2.7.10"
  }
 },
 "nbformat": 4,
 "nbformat_minor": 0
}
