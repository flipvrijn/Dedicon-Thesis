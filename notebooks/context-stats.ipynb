{
 "cells": [
  {
   "cell_type": "markdown",
   "metadata": {},
   "source": [
    "#Plotting stats raw context"
   ]
  },
  {
   "cell_type": "code",
   "execution_count": 1,
   "metadata": {
    "collapsed": true
   },
   "outputs": [],
   "source": [
    "import numpy as np\n",
    "import matplotlib\n",
    "import matplotlib.pyplot as plt\n",
    "import seaborn\n",
    "from collections import OrderedDict"
   ]
  },
  {
   "cell_type": "code",
   "execution_count": 5,
   "metadata": {
    "collapsed": false
   },
   "outputs": [],
   "source": [
    "loader = np.load('/media/Data/flipvanrijn/datasets/coco/processed/reduced/context_train_filtered_stemmed.npz')\n",
    "data_train = loader['data']\n",
    "loader = np.load('/media/Data/flipvanrijn/datasets/coco/processed/reduced/context_val_filtered_stemmed.npz')\n",
    "data_val = loader['data']"
   ]
  },
  {
   "cell_type": "code",
   "execution_count": 14,
   "metadata": {
    "collapsed": false
   },
   "outputs": [],
   "source": [
    "def count_lengths(data):\n",
    "    # Count with the same length\n",
    "    lengths = {}\n",
    "    for d in data:\n",
    "        length = len(d)\n",
    "        lengths[length] = lengths.get(length, 0) + 1\n",
    "    # Sort them in decreasing order\n",
    "    sorted_lengths = OrderedDict(sorted(lengths.items(), key=lambda t: t[1]*-1))\n",
    "    return lengths.values(), sorted_lengths\n",
    "lengths_train, _ = count_lengths(data_train)\n",
    "lengths_val, _ = count_lengths(data_val)"
   ]
  },
  {
   "cell_type": "code",
   "execution_count": 16,
   "metadata": {
    "collapsed": false
   },
   "outputs": [],
   "source": [
    "# Plot lengths train\n",
    "fig = plt.figure()\n",
    "plt.plot(lengths_train)\n",
    "plt.xlabel('# words')\n",
    "plt.ylabel('Frequency')\n",
    "plt.title('Textual context size [TRAIN]')\n",
    "plt.savefig('/home/flipvanrijn/plots/textual-context-size-train.pdf', dpi=1000)\n",
    "\n",
    "# Plot lengths validation + test\n",
    "fig = plt.figure()\n",
    "plt.plot(lengths_val)\n",
    "plt.xlabel('# words')\n",
    "plt.ylabel('Frequency')\n",
    "plt.title('Textual context size [VAL]')\n",
    "plt.savefig('/home/flipvanrijn/plots/textual-context-size-val.pdf', dpi=1000)"
   ]
  },
  {
   "cell_type": "code",
   "execution_count": 58,
   "metadata": {
    "collapsed": false
   },
   "outputs": [],
   "source": [
    "#Zipf's distribution of length\n",
    "fig = plt.figure()\n",
    "ax = fig.add_subplot(111)\n",
    "ax.plot(sorted_lengths.values())\n",
    "ax.set_yscale('log')\n",
    "plt.show()"
   ]
  },
  {
   "cell_type": "code",
   "execution_count": 80,
   "metadata": {
    "collapsed": false
   },
   "outputs": [
    {
     "data": {
      "text/plain": [
       "77673"
      ]
     },
     "execution_count": 80,
     "metadata": {},
     "output_type": "execute_result"
    }
   ],
   "source": [
    "sum([c for l, c in lengths.items() if l <= 100])"
   ]
  },
  {
   "cell_type": "markdown",
   "metadata": {},
   "source": [
    "#Evaluate context using metrics"
   ]
  },
  {
   "cell_type": "code",
   "execution_count": 82,
   "metadata": {
    "collapsed": true
   },
   "outputs": [],
   "source": [
    "import sys\n",
    "sys.path.append('/home/flipvanrijn/Workspace/Dedicon-Thesis/server/pycocoevalcap')"
   ]
  },
  {
   "cell_type": "code",
   "execution_count": 85,
   "metadata": {
    "collapsed": true
   },
   "outputs": [],
   "source": [
    "from rouge.rouge import Rouge"
   ]
  },
  {
   "cell_type": "code",
   "execution_count": 137,
   "metadata": {
    "collapsed": false
   },
   "outputs": [],
   "source": [
    "data = [(u'luang', 0.20321628880092443),\n",
    " (u'prabang', 0.2050751395771906),\n",
    " (u'199', 0.22953895277526),\n",
    " (u'this', 0),\n",
    " (u'dog', 0.15507775312144545),\n",
    " (u'loved', 0.1070854724854866),\n",
    " (u'to', 0),\n",
    " (u'sack', 0.2050751395771906),\n",
    " (u'out', 0),\n",
    " (u'on', 0),\n",
    " (u'the', 0),\n",
    " (u'shoe', 0.22634186845755885),\n",
    " (u'rack', 0.16392433862000122),\n",
    " (u'at', 0),\n",
    " (u'villa', 0.16745461600994188),\n",
    " (u'merry', 0.18885814309810428),\n",
    " (u'no', 0),\n",
    " (u'.', 0),\n",
    " (u'1', 0),\n",
    " (u'.', 0),\n",
    " (u'laos', 0.2974918213250064),\n",
    " (u'lao', 0.2974918213250064),\n",
    " (u'vacation', 0.11953598919265084),\n",
    " (u'travel', 0.10236591509290169),\n",
    " (u'trip', 0.11494678531178285),\n",
    " (u'luangprabang', 0.20234419599159267),\n",
    " (u'dog', 0.15507775312144545),\n",
    " (u'shoes', 0.22634186845755885),\n",
    " (u'cute', 0.12711024332054496)]"
   ]
  },
  {
   "cell_type": "code",
   "execution_count": 151,
   "metadata": {
    "collapsed": false
   },
   "outputs": [
    {
     "name": "stdout",
     "output_type": "stream",
     "text": [
      "\u001b[38;5;255m\u001b[48;5;247m luang  \u001b[38;5;255m\u001b[48;5;247m prabang  \u001b[38;5;255m\u001b[48;5;247m 199  \u001b[38;5;0m\u001b[48;5;255m this  \u001b[38;5;255m\u001b[48;5;248m dog  \u001b[38;5;255m\u001b[48;5;249m loved  \u001b[38;5;0m\u001b[48;5;255m to  \u001b[38;5;255m\u001b[48;5;247m sack  \u001b[38;5;0m\u001b[48;5;255m out  \u001b[38;5;0m\u001b[48;5;255m on  \u001b[38;5;0m\u001b[48;5;255m the  \u001b[38;5;255m\u001b[48;5;247m shoe  \u001b[38;5;255m\u001b[48;5;248m rack  \u001b[38;5;0m\u001b[48;5;255m at  \u001b[38;5;255m\u001b[48;5;248m villa  \u001b[38;5;255m\u001b[48;5;248m merry  \u001b[38;5;0m\u001b[48;5;255m no  \u001b[38;5;0m\u001b[48;5;255m .  \u001b[38;5;0m\u001b[48;5;255m 1  \u001b[38;5;0m\u001b[48;5;255m .  \u001b[38;5;255m\u001b[48;5;246m laos  \u001b[38;5;255m\u001b[48;5;246m lao  \u001b[38;5;255m\u001b[48;5;249m vacation  \u001b[38;5;255m\u001b[48;5;249m travel  \u001b[38;5;255m\u001b[48;5;249m trip  \u001b[38;5;255m\u001b[48;5;247m luangprabang  \u001b[38;5;255m\u001b[48;5;248m dog  \u001b[38;5;255m\u001b[48;5;247m shoes  \u001b[38;5;255m\u001b[48;5;249m cute \n"
     ]
    }
   ],
   "source": [
    "from colored import fg, bg\n",
    "colors = range(232, 253)[::-1]\n",
    "scores = [s[1] for s in data]\n",
    "words = [s[0] for s in data]\n",
    "bins = np.linspace(0, 1, len(colors))\n",
    "pos = np.digitize(sc, bins)\n",
    "for w, p, s in zip(words, pos, scores):\n",
    "    if s > 0:\n",
    "        print('%s%s %s ' % (fg(255), bg(colors[p]), w)),\n",
    "    else:\n",
    "        print('%s%s %s ' % (fg('black'), bg(255), w)),"
   ]
  },
  {
   "cell_type": "code",
   "execution_count": 128,
   "metadata": {
    "collapsed": false
   },
   "outputs": [
    {
     "name": "stdout",
     "output_type": "stream",
     "text": [
      "[255, 254, 253, 252, 251, 250, 249, 248, 247, 246, 245, 244, 243, 242, 241, 240, 239, 238, 237, 236, 235, 234, 233, 232]\n"
     ]
    }
   ],
   "source": [
    "print colors"
   ]
  },
  {
   "cell_type": "code",
   "execution_count": null,
   "metadata": {
    "collapsed": true
   },
   "outputs": [],
   "source": []
  }
 ],
 "metadata": {
  "kernelspec": {
   "display_name": "Python 2",
   "language": "python",
   "name": "python2"
  },
  "language_info": {
   "codemirror_mode": {
    "name": "ipython",
    "version": 2
   },
   "file_extension": ".py",
   "mimetype": "text/x-python",
   "name": "python",
   "nbconvert_exporter": "python",
   "pygments_lexer": "ipython2",
   "version": "2.7.10"
  }
 },
 "nbformat": 4,
 "nbformat_minor": 0
}
