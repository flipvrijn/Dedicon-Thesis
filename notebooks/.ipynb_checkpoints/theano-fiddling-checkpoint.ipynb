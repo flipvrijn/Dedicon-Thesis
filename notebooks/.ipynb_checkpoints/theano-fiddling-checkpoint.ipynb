{
 "cells": [
  {
   "cell_type": "code",
   "execution_count": null,
   "metadata": {
    "collapsed": false
   },
   "outputs": [],
   "source": [
    "import theano\n",
    "import theano.tensor as T\n",
    "import numpy as np"
   ]
  },
  {
   "cell_type": "code",
   "execution_count": null,
   "metadata": {
    "collapsed": false,
    "scrolled": true
   },
   "outputs": [],
   "source": [
    "ifrags = T.matrix('ifrags')\n",
    "sfrags = T.matrix('sfrags')\n",
    "scores = T.matrix('scores')\n",
    "\n",
    "result, updates =theano.scan(fn=lambda sfrag, idx, ifrags, scores: scores,\n",
    "                             sequences=[sfrags, T.arange(100)],\n",
    "                             non_sequences=[ifrags, scores])\n",
    "\n",
    "final = theano.function([ifrags, sfrags, scores], result)"
   ]
  },
  {
   "cell_type": "code",
   "execution_count": null,
   "metadata": {
    "collapsed": false,
    "scrolled": true
   },
   "outputs": [],
   "source": [
    "ifrags = np.random.rand(20,600).astype(np.float32)\n",
    "sfrags = np.random.rand(9,1,600).astype(np.float32)\n",
    "scores = np.zeros((ifrags.shape[0], sfrags.shape[0]), dtype=np.float32)\n",
    "final(ifrags, sfrags, scores)"
   ]
  },
  {
   "cell_type": "code",
   "execution_count": null,
   "metadata": {
    "collapsed": false
   },
   "outputs": [],
   "source": [
    "x = T.matrix('x')\n",
    "y = T.tensor3('y') \n",
    "f = theano.function([x, y], T.max_and_argmax(T.batched_dot(T.shape_padleft(x, 1).repeat(T.shape(y)[0], 0), y.dimshuffle(0, 2, 1)), axis=1))"
   ]
  },
  {
   "cell_type": "code",
   "execution_count": null,
   "metadata": {
    "collapsed": false
   },
   "outputs": [],
   "source": [
    "ifrags = np.random.rand(20, 600).astype(np.float32)\n",
    "sfrags = np.random.rand(9, 1, 600).astype(np.float32)\n",
    "f(ifrags, sfrags)"
   ]
  },
  {
   "cell_type": "code",
   "execution_count": null,
   "metadata": {
    "collapsed": false
   },
   "outputs": [],
   "source": [
    "import sys\n",
    "sys.path.insert(0, '/home/flipvanrijn/Workspace/Dedicon-Thesis/')\n",
    "\n",
    "from keras.models import Sequential\n",
    "\n",
    "sent_model = Sequential()\n",
    "sent_model.add(BiDirection(10, 300, 600, activation='relu', output_mode='concat'))"
   ]
  },
  {
   "cell_type": "code",
   "execution_count": null,
   "metadata": {
    "collapsed": false
   },
   "outputs": [],
   "source": [
    "sent_model.get_output()"
   ]
  },
  {
   "cell_type": "code",
   "execution_count": null,
   "metadata": {
    "collapsed": false
   },
   "outputs": [],
   "source": [
    "import theano\n",
    "f_combined = theano.function([sent_model.get_input()], sent_model.get_output())"
   ]
  },
  {
   "cell_type": "code",
   "execution_count": null,
   "metadata": {
    "collapsed": false
   },
   "outputs": [],
   "source": [
    "import numpy as np\n",
    "f_combined(np.ones((1,9, 10), dtype=np.float32))"
   ]
  },
  {
   "cell_type": "code",
   "execution_count": null,
   "metadata": {
    "collapsed": true
   },
   "outputs": [],
   "source": []
  }
 ],
 "metadata": {
  "kernelspec": {
   "display_name": "Python 2",
   "language": "python",
   "name": "python2"
  },
  "language_info": {
   "codemirror_mode": {
    "name": "ipython",
    "version": 2
   },
   "file_extension": ".py",
   "mimetype": "text/x-python",
   "name": "python",
   "nbconvert_exporter": "python",
   "pygments_lexer": "ipython2",
   "version": "2.7.10"
  }
 },
 "nbformat": 4,
 "nbformat_minor": 0
}
