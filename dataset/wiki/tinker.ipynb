{
 "cells": [
  {
   "cell_type": "code",
   "execution_count": 12,
   "metadata": {
    "collapsed": false
   },
   "outputs": [],
   "source": [
    "from gensim.models import Word2Vec\n",
    "import numpy as np"
   ]
  },
  {
   "cell_type": "code",
   "execution_count": 3,
   "metadata": {
    "collapsed": false
   },
   "outputs": [],
   "source": [
    "model = Word2Vec.load_word2vec_format('/media/Data_/flipvanrijn/models/word2vec/enwiki-latest-pages.512.bin', binary=True)"
   ]
  },
  {
   "cell_type": "code",
   "execution_count": 20,
   "metadata": {
    "collapsed": false
   },
   "outputs": [],
   "source": [
    "sent1 = 'Hello , my name is not relevant .'\n",
    "words1 = sent1.split(' ')\n",
    "sent2 = 'Bread and butter are lovely .'\n",
    "words2 = sent2.split(' ')\n",
    "sent3 = 'Why do n\\'t  you introduce yourself ?'\n",
    "words3 = sent3.split(' ')"
   ]
  },
  {
   "cell_type": "code",
   "execution_count": 31,
   "metadata": {
    "collapsed": false
   },
   "outputs": [],
   "source": [
    "v_sent1 = np.array([model[w.lower()] for w in words1 if w in model]).prod(axis=0)\n",
    "v_sent2 = np.array([model[w.lower()] for w in words2 if w in model]).prod(axis=0)\n",
    "v_sent3 = np.array([model[w.lower()] for w in words3 if w in model]).prod(axis=0)"
   ]
  },
  {
   "cell_type": "code",
   "execution_count": null,
   "metadata": {
    "collapsed": true
   },
   "outputs": [],
   "source": []
  }
 ],
 "metadata": {
  "kernelspec": {
   "display_name": "Python 2",
   "language": "python",
   "name": "python2"
  },
  "language_info": {
   "codemirror_mode": {
    "name": "ipython",
    "version": 2
   },
   "file_extension": ".py",
   "mimetype": "text/x-python",
   "name": "python",
   "nbconvert_exporter": "python",
   "pygments_lexer": "ipython2",
   "version": "2.7.10"
  }
 },
 "nbformat": 4,
 "nbformat_minor": 0
}
